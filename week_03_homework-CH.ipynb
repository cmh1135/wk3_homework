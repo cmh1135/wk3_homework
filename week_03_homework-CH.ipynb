{
 "cells": [
  {
   "cell_type": "markdown",
   "metadata": {},
   "source": [
    "### Homework 3 Numpy Arrays\n",
    "\n",
    "1. Open `cars.csv` in jupyter and look at the data. (Double click `cars.csv` to open in a new tab).\n",
    "2. We are converting each **column** into an numpy array.\n",
    "3. Notice we have text, integer and float data. \n",
    "4. Take care not to overwrite your starter code."
   ]
  },
  {
   "cell_type": "code",
   "execution_count": 108,
   "metadata": {},
   "outputs": [
    {
     "name": "stdout",
     "output_type": "stream",
     "text": [
      "['Chevrolet Chevelle Malibu' 'Buick Skylark 320' 'Plymouth Satellite'\n",
      " 'AMC Rebel SST' 'Ford Torino' 'Ford Galaxie 500' 'Chevrolet Impala'\n",
      " 'Plymouth Fury iii' 'Pontiac Catalina' 'AMC Ambassador DPL'\n",
      " 'Citroen DS-21 Pallas' 'Chevrolet Chevelle Concours (sw)'\n",
      " 'Ford Torino (sw)' 'Plymouth Satellite (sw)' 'AMC Rebel SST (sw)'\n",
      " 'Dodge Challenger SE' \"Plymouth 'Cuda 340\" 'Ford Mustang Boss 302'\n",
      " 'Chevrolet Monte Carlo' 'Buick Estate Wagon (sw)'\n",
      " 'Toyota Corolla Mark ii' 'Plymouth Duster' 'AMC Hornet' 'Ford Maverick'\n",
      " 'Datsun PL510' 'Volkswagen 1131 Deluxe Sedan' 'Peugeot 504' 'Audi 100 LS'\n",
      " 'Saab 99e' 'BMW 2002' 'AMC Gremlin' 'Ford F250' 'Chevy C20' 'Dodge D200'\n",
      " 'Hi 1200D' 'Datsun PL510' 'Chevrolet Vega 2300' 'Toyota Corolla'\n",
      " 'Ford Pinto' 'Volkswagen Super Beetle 117' 'AMC Gremlin'\n",
      " 'Plymouth Satellite Custom' 'Chevrolet Chevelle Malibu' 'Ford Torino 500'\n",
      " 'AMC Matador' 'Chevrolet Impala' 'Pontiac Catalina Brougham'\n",
      " 'Ford Galaxie 500' 'Plymouth Fury iii' 'Dodge Monaco (sw)'\n",
      " 'Ford Country Squire (sw)' 'Pontiac Safari (sw)'\n",
      " 'AMC Hornet Sportabout (sw)' 'Chevrolet Vega (sw)' 'Pontiac Firebird'\n",
      " 'Ford Mustang' 'Mercury Capri 2000' 'Opel 1900' 'Peugeot 304' 'Fiat 124B'\n",
      " 'Toyota Corolla 1200' 'Datsun 1200' 'Volkswagen Model 111'\n",
      " 'Plymouth Cricket' 'Toyota Corolla Hardtop' 'Dodge Colt Hardtop'\n",
      " 'Volkswagen Type 3' 'Chevrolet Vega' 'Ford Pinto Runabout'\n",
      " 'Chevrolet Impala' 'Pontiac Catalina' 'Plymouth Fury III'\n",
      " 'Ford Galaxie 500' 'AMC Ambassador SST' 'Mercury Marquis'\n",
      " 'Buick LeSabre Custom' 'Oldsmobile Delta 88 Royale'\n",
      " 'Chrysler Newport Royal' 'Mazda RX2 Coupe' 'AMC Matador (sw)'\n",
      " 'Chevrolet Chevelle Concours (sw)' 'Ford Gran Torino (sw)'\n",
      " 'Plymouth Satellite Custom (sw)' 'Volvo 145e (sw)' 'Volkswagen 411 (sw)'\n",
      " 'Peugeot 504 (sw)' 'Renault 12 (sw)' 'Ford Pinto (sw)' 'Datsun 510 (sw)'\n",
      " 'Toyota Corolla Mark II (sw)' 'Dodge Colt (sw)'\n",
      " 'Toyota Corolla 1600 (sw)' 'Buick Century 350' 'AMC Matador'\n",
      " 'Chevrolet Malibu' 'Ford Gran Torino' 'Dodge Coronet Custom'\n",
      " 'Mercury Marquis Brougham' 'Chevrolet Caprice Classic' 'Ford LTD'\n",
      " 'Plymouth Fury Gran Sedan' 'Chrysler New Yorker Brougham'\n",
      " 'Buick Electra 225 Custom' 'AMC Ambassador Brougham' 'Plymouth Valiant'\n",
      " 'Chevrolet Nova Custom' 'AMC Hornet' 'Ford Maverick' 'Plymouth Duster'\n",
      " 'Volkswagen Super Beetle' 'Chevrolet Impala' 'Ford Country'\n",
      " 'Plymouth Custom Suburb' 'Oldsmobile Vista Cruiser' 'AMC Gremlin'\n",
      " 'Toyota Camry' 'Chevrolet Vega' 'Datsun 610' 'Mazda RX3' 'Ford Pinto'\n",
      " 'Mercury Capri v6' 'Fiat 124 Sport Coupe' 'Chevrolet Monte Carlo S'\n",
      " 'Pontiac Grand Prix' 'Fiat 128' 'Opel Manta' 'Audi 100LS' 'Volvo 144ea'\n",
      " 'Dodge Dart Custom' 'Saab 99le' 'Toyota Mark II' 'Oldsmobile Omega'\n",
      " 'Plymouth Duster' 'Ford Maverick' 'AMC Hornet' 'Chevrolet Nova'\n",
      " 'Datsun B210' 'Ford Pinto' 'Toyota Corolla 1200' 'Chevrolet Vega'\n",
      " 'Chevrolet Chevelle Malibu Classic' 'AMC Matador'\n",
      " 'Plymouth Satellite Sebring' 'Ford Gran Torino'\n",
      " 'Buick Century Luxus (sw)' 'Dodge Coronet Custom (sw)'\n",
      " 'Ford Gran Torino (sw)' 'AMC Matador (sw)' 'Audi Fox' 'Volkswagen Dasher'\n",
      " 'Opel Manta' 'Toyota Corolla' 'Datsun 710' 'Dodge Colt' 'Fiat 128'\n",
      " 'Fiat 124 TC' 'Honda Civic' 'Subaru' 'Fiat x1.9'\n",
      " 'Plymouth Valiant Custom' 'Chevrolet Nova' 'Mercury Monarch'\n",
      " 'Ford Maverick' 'Pontiac Catalina' 'Chevrolet Bel Air'\n",
      " 'Plymouth Grand Fury' 'Ford LTD' 'Buick Century'\n",
      " 'Chevrolete Chevelle Malibu' 'AMC Matador' 'Plymouth Fury'\n",
      " 'Buick Skyhawk' 'Chevrolet Monza 2+2' 'Ford Mustang II' 'Toyota Corolla'\n",
      " 'Ford Pinto' 'AMC Gremlin' 'Pontiac Astro' 'Toyota Corolla'\n",
      " 'Volkswagen Dasher' 'Datsun 710' 'Ford Pinto' 'Volkswagen Rabbit'\n",
      " 'AMC Pacer' 'Audi 100LS' 'Peugeot 504' 'Volvo 244DL' 'Saab 99LE'\n",
      " 'Honda Civic CVCC' 'Fiat 131' 'Opel 1900' 'Capri ii' 'Dodge Colt'\n",
      " 'Renault 12tl' 'Chevrolet Chevelle Malibu Classic'\n",
      " 'Dodge Coronet Brougham' 'AMC Matador' 'Ford Gran Torino'\n",
      " 'Plymouth Valiant' 'Chevrolet Nova' 'Ford Maverick' 'AMC Hornet'\n",
      " 'Chevrolet Chevette' 'Chevrolet Woody' 'Volkswagen Rabbit' 'Honda Civic'\n",
      " 'Dodge Aspen SE' 'Ford Grenada ghia' 'Pontiac Ventura SJ' 'AMC Pacer d/l'\n",
      " 'Volkswagen Rabbit' 'Datsun B-210' 'Toyota Corolla' 'Ford Pinto'\n",
      " 'Volvo 245' 'Plymouth Volare Premier v8' 'Peugeot 504' 'Toyota Mark II'\n",
      " 'Mercedes-Benz 280s' 'Cadillac Seville' 'Chevrolet C10' 'Ford F108'\n",
      " 'Dodge D100' 'Honda Accord CVCC' 'Buick Opel Isuzu Deluxe'\n",
      " 'Renault 5 GTL' 'Plymouth Arrow GS' 'Datsun F-10 Hatchback'\n",
      " 'Chevrolet Caprice Classic' 'Oldsmobile Cutlass Supreme'\n",
      " 'Dodge Monaco Brougham' 'Mercury Cougar Brougham' 'Chevrolet Concours'\n",
      " 'Buick Skylark' 'Plymouth Volare Custom' 'Ford Grenada'\n",
      " 'Pontiac Grand Prix LJ' 'Chevrolet Monte Carlo Landau' 'Chrysler Cordoba'\n",
      " 'Ford Thunderbird' 'Volkswagen Rabbit Custom' 'Pontiac Sunbird Coupe'\n",
      " 'Toyota Corolla Liftback' 'Ford Mustang II 2+2' 'Chevrolet Chevette'\n",
      " 'Dodge Colt m/m' 'Subaru DL' 'Volkswagen Dasher' 'Datsun 810' 'BMW 320i'\n",
      " 'Mazda RX-4' 'Volkswagen Rabbit Custom Diesel' 'Ford Fiesta'\n",
      " 'Mazda GLC Deluxe' 'Datsun B210 GX' 'Honda Civic CVCC'\n",
      " 'Oldsmobile Cutlass Salon Brougham' 'Dodge Diplomat'\n",
      " 'Mercury Monarch ghia' 'Pontiac Phoenix LJ' 'Chevrolet Malibu'\n",
      " 'Ford Fairmont (auto)' 'Ford Fairmont (man)' 'Plymouth Volare'\n",
      " 'AMC Concord' 'Buick Century Special' 'Mercury Zephyr' 'Dodge Aspen'\n",
      " 'AMC Concord d/l' 'Chevrolet Monte Carlo Landau'\n",
      " 'Buick Regal Sport Coupe (turbo)' 'Ford Futura' 'Dodge Magnum XE'\n",
      " 'Chevrolet Chevette' 'Toyota Corolla' 'Datsun 510' 'Dodge Omni'\n",
      " 'Toyota Celica GT Liftback' 'Plymouth Sapporo' 'Oldsmobile Starfire SX'\n",
      " 'Datsun 200-SX' 'Audi 5000' 'Volvo 264gl' 'Saab 99gle' 'Peugeot 604sl'\n",
      " 'Volkswagen Scirocco' 'Honda Accord LX' 'Pontiac Lemans V6'\n",
      " 'Mercury Zephyr 6' 'Ford Fairmont 4' 'AMC Concord DL 6' 'Dodge Aspen 6'\n",
      " 'Chevrolet Caprice Classic' 'Ford LTD Landau' 'Mercury Grand Marquis'\n",
      " 'Dodge St. Regis' 'Buick Estate Wagon (sw)' 'Ford Country Squire (sw)'\n",
      " 'Chevrolet Malibu Classic (sw)' 'Chrysler Lebaron Town @ Country (sw)'\n",
      " 'Volkswagen Rabbit Custom' 'Mazda GLC Deluxe'\n",
      " 'Dodge Colt Hatchback Custom' 'AMC Spirit DL' 'Mercedes Benz 300d'\n",
      " 'Cadillac Eldorado' 'Peugeot 504' 'Oldsmobile Cutlass Salon Brougham'\n",
      " 'Plymouth Horizon' 'Plymouth Horizon TC3' 'Datsun 210'\n",
      " 'Fiat Strada Custom' 'Buick Skylark Limited' 'Chevrolet Citation'\n",
      " 'Oldsmobile Omega Brougham' 'Pontiac Phoenix' 'Volkswagen Rabbit'\n",
      " 'Toyota Corolla Tercel' 'Chevrolet Chevette' 'Datsun 310'\n",
      " 'Chevrolet Citation' 'Ford Fairmont' 'AMC Concord' 'Dodge Aspen'\n",
      " 'Audi 4000' 'Toyota Corolla Liftback' 'Mazda 626' 'Datsun 510 Hatchback'\n",
      " 'Toyota Corolla' 'Mazda GLC' 'Dodge Colt' 'Datsun 210'\n",
      " 'Volkswagen Rabbit C (Diesel)' 'Volkswagen Dasher (diesel)'\n",
      " 'Audi 5000s (diesel)' 'Mercedes-Benz 240d' 'Honda Civic 1500 gl'\n",
      " 'Renault Lecar Deluxe' 'Subaru DL' 'Volkswagen Rabbit' 'Datsun 280-ZX'\n",
      " 'Mazda RX-7 GS' 'Triumph TR7 Coupe' 'Ford Mustang Cobra' 'Honda Accord'\n",
      " 'Plymouth Reliant' 'Buick Skylark' 'Dodge Aries Wagon (sw)'\n",
      " 'Chevrolet Citation' 'Plymouth Reliant' 'Toyota Starlet' 'Plymouth Champ'\n",
      " 'Honda Civic 1300' 'Subaru' 'Datsun 210 MPG' 'Toyota Tercel'\n",
      " 'Mazda GLC 4' 'Plymouth Horizon 4' 'Ford Escort 4W' 'Ford Escort 2H'\n",
      " 'Volkswagen Jetta' 'Renault 18i' 'Honda Prelude' 'Toyota Corolla'\n",
      " 'Datsun 200SX' 'Mazda 626' 'Peugeot 505s Turbo Diesel' 'Saab 900s'\n",
      " 'Volvo Diesel' 'Toyota Cressida' 'Datsun 810 Maxima' 'Buick Century'\n",
      " 'Oldsmobile Cutlass LS' 'Ford Grenada gl' 'Chrysler Lebaron Salon'\n",
      " 'Chevrolet Cavalier' 'Chevrolet Cavalier Wagon'\n",
      " 'Chevrolet Cavalier 2-door' 'Pontiac J2000 SE Hatchback' 'Dodge Aries SE'\n",
      " 'Pontiac Phoenix' 'Ford Fairmont Futura' 'AMC Concord DL'\n",
      " 'Volkswagen Rabbit l' 'Mazda GLC Custom l' 'Mazda GLC Custom'\n",
      " 'Plymouth Horizon Miser' 'Mercury Lynx l' 'Nissan Stanza XE'\n",
      " 'Honda Accord' 'Toyota Corolla' 'Honda Civic' 'Honda Civic (auto)'\n",
      " 'Datsun 310 GX' 'Buick Century Limited'\n",
      " 'Oldsmobile Cutlass Ciera (diesel)' 'Chrysler Lebaron Medallion'\n",
      " 'Ford Grenada l' 'Toyota Celica GT' 'Dodge Charger 2.2'\n",
      " 'Chevrolet Camaro' 'Ford Mustang GL' 'Volkswagen Pickup' 'Dodge Rampage'\n",
      " 'Ford Ranger' 'Chevy S-10']\n",
      "['Car' 'MPG' 'Cylinders' 'Displacement' 'Horsepower' 'Weight'\n",
      " 'Acceleration' 'Model' 'Origin']\n"
     ]
    }
   ],
   "source": [
    "#Starter code. Do NOT modify this cell\n",
    "import pandas as pd\n",
    "import numpy as np\n",
    "\n",
    "# Read in dataset\n",
    "df = pd.read_csv('cars.csv',delimiter=';')\n",
    "\n",
    "# Convert each column to an np.array\n",
    "car = df.Car.to_numpy()\n",
    "mpg = df.MPG.to_numpy()\n",
    "cylinders = df.Cylinders.to_numpy()\n",
    "displacement = df.Displacement.to_numpy()\n",
    "horsepower = df.Horsepower.to_numpy()\n",
    "weight = df.Weight.to_numpy()\n",
    "acceleration = df.Acceleration.to_numpy()\n",
    "model = df.Model.to_numpy()\n",
    "origin = df.Origin.to_numpy()\n",
    "print(car)\n",
    "# create an array of headers\n",
    "headers = np.array(['Car', 'MPG', 'Cylinders', 'Displacement', 'Horsepower', 'Weight','Acceleration', 'Model', 'Origin'])\n",
    "print(headers)"
   ]
  },
  {
   "cell_type": "code",
   "execution_count": 58,
   "metadata": {},
   "outputs": [
    {
     "data": {
      "text/html": [
       "<div>\n",
       "<style scoped>\n",
       "    .dataframe tbody tr th:only-of-type {\n",
       "        vertical-align: middle;\n",
       "    }\n",
       "\n",
       "    .dataframe tbody tr th {\n",
       "        vertical-align: top;\n",
       "    }\n",
       "\n",
       "    .dataframe thead th {\n",
       "        text-align: right;\n",
       "    }\n",
       "</style>\n",
       "<table border=\"1\" class=\"dataframe\">\n",
       "  <thead>\n",
       "    <tr style=\"text-align: right;\">\n",
       "      <th></th>\n",
       "      <th>Car</th>\n",
       "      <th>MPG</th>\n",
       "      <th>Cylinders</th>\n",
       "      <th>Displacement</th>\n",
       "      <th>Horsepower</th>\n",
       "      <th>Weight</th>\n",
       "      <th>Acceleration</th>\n",
       "      <th>Model</th>\n",
       "      <th>Origin</th>\n",
       "    </tr>\n",
       "  </thead>\n",
       "  <tbody>\n",
       "    <tr>\n",
       "      <th>0</th>\n",
       "      <td>Chevrolet Chevelle Malibu</td>\n",
       "      <td>18.0</td>\n",
       "      <td>8</td>\n",
       "      <td>307.0</td>\n",
       "      <td>130.0</td>\n",
       "      <td>3504.0</td>\n",
       "      <td>12.0</td>\n",
       "      <td>70</td>\n",
       "      <td>US</td>\n",
       "    </tr>\n",
       "    <tr>\n",
       "      <th>1</th>\n",
       "      <td>Buick Skylark 320</td>\n",
       "      <td>15.0</td>\n",
       "      <td>8</td>\n",
       "      <td>350.0</td>\n",
       "      <td>165.0</td>\n",
       "      <td>3693.0</td>\n",
       "      <td>11.5</td>\n",
       "      <td>70</td>\n",
       "      <td>US</td>\n",
       "    </tr>\n",
       "    <tr>\n",
       "      <th>2</th>\n",
       "      <td>Plymouth Satellite</td>\n",
       "      <td>18.0</td>\n",
       "      <td>8</td>\n",
       "      <td>318.0</td>\n",
       "      <td>150.0</td>\n",
       "      <td>3436.0</td>\n",
       "      <td>11.0</td>\n",
       "      <td>70</td>\n",
       "      <td>US</td>\n",
       "    </tr>\n",
       "    <tr>\n",
       "      <th>3</th>\n",
       "      <td>AMC Rebel SST</td>\n",
       "      <td>16.0</td>\n",
       "      <td>8</td>\n",
       "      <td>304.0</td>\n",
       "      <td>150.0</td>\n",
       "      <td>3433.0</td>\n",
       "      <td>12.0</td>\n",
       "      <td>70</td>\n",
       "      <td>US</td>\n",
       "    </tr>\n",
       "    <tr>\n",
       "      <th>4</th>\n",
       "      <td>Ford Torino</td>\n",
       "      <td>17.0</td>\n",
       "      <td>8</td>\n",
       "      <td>302.0</td>\n",
       "      <td>140.0</td>\n",
       "      <td>3449.0</td>\n",
       "      <td>10.5</td>\n",
       "      <td>70</td>\n",
       "      <td>US</td>\n",
       "    </tr>\n",
       "  </tbody>\n",
       "</table>\n",
       "</div>"
      ],
      "text/plain": [
       "                         Car   MPG  Cylinders  Displacement  Horsepower  \\\n",
       "0  Chevrolet Chevelle Malibu  18.0          8         307.0       130.0   \n",
       "1          Buick Skylark 320  15.0          8         350.0       165.0   \n",
       "2         Plymouth Satellite  18.0          8         318.0       150.0   \n",
       "3              AMC Rebel SST  16.0          8         304.0       150.0   \n",
       "4                Ford Torino  17.0          8         302.0       140.0   \n",
       "\n",
       "   Weight  Acceleration  Model Origin  \n",
       "0  3504.0          12.0     70     US  \n",
       "1  3693.0          11.5     70     US  \n",
       "2  3436.0          11.0     70     US  \n",
       "3  3433.0          12.0     70     US  \n",
       "4  3449.0          10.5     70     US  "
      ]
     },
     "execution_count": 58,
     "metadata": {},
     "output_type": "execute_result"
    }
   ],
   "source": [
    "df.head()"
   ]
  },
  {
   "cell_type": "markdown",
   "metadata": {},
   "source": [
    "1. How can you get help on `np.array`?\n",
    "\n",
    "Call dir() on np.array.\n",
    "\n",
    "Call dir() on car.\n",
    "\n",
    "Note the difference. `car` has methods and attributes we can use."
   ]
  },
  {
   "cell_type": "code",
   "execution_count": 116,
   "metadata": {},
   "outputs": [
    {
     "data": {
      "text/plain": [
       "['__call__',\n",
       " '__class__',\n",
       " '__delattr__',\n",
       " '__dir__',\n",
       " '__doc__',\n",
       " '__eq__',\n",
       " '__format__',\n",
       " '__ge__',\n",
       " '__getattribute__',\n",
       " '__gt__',\n",
       " '__hash__',\n",
       " '__init__',\n",
       " '__init_subclass__',\n",
       " '__le__',\n",
       " '__lt__',\n",
       " '__module__',\n",
       " '__name__',\n",
       " '__ne__',\n",
       " '__new__',\n",
       " '__qualname__',\n",
       " '__reduce__',\n",
       " '__reduce_ex__',\n",
       " '__repr__',\n",
       " '__self__',\n",
       " '__setattr__',\n",
       " '__sizeof__',\n",
       " '__str__',\n",
       " '__subclasshook__',\n",
       " '__text_signature__']"
      ]
     },
     "execution_count": 116,
     "metadata": {},
     "output_type": "execute_result"
    }
   ],
   "source": [
    "# help can be accessed through numpy specific help functions; i.e. lookfor(), info(), source()\n",
    "dir(np.array)"
   ]
  },
  {
   "cell_type": "code",
   "execution_count": 115,
   "metadata": {},
   "outputs": [
    {
     "data": {
      "text/plain": [
       "['T',\n",
       " '__abs__',\n",
       " '__add__',\n",
       " '__and__',\n",
       " '__array__',\n",
       " '__array_finalize__',\n",
       " '__array_function__',\n",
       " '__array_interface__',\n",
       " '__array_prepare__',\n",
       " '__array_priority__',\n",
       " '__array_struct__',\n",
       " '__array_ufunc__',\n",
       " '__array_wrap__',\n",
       " '__bool__',\n",
       " '__class__',\n",
       " '__complex__',\n",
       " '__contains__',\n",
       " '__copy__',\n",
       " '__deepcopy__',\n",
       " '__delattr__',\n",
       " '__delitem__',\n",
       " '__dir__',\n",
       " '__divmod__',\n",
       " '__doc__',\n",
       " '__eq__',\n",
       " '__float__',\n",
       " '__floordiv__',\n",
       " '__format__',\n",
       " '__ge__',\n",
       " '__getattribute__',\n",
       " '__getitem__',\n",
       " '__gt__',\n",
       " '__hash__',\n",
       " '__iadd__',\n",
       " '__iand__',\n",
       " '__ifloordiv__',\n",
       " '__ilshift__',\n",
       " '__imatmul__',\n",
       " '__imod__',\n",
       " '__imul__',\n",
       " '__index__',\n",
       " '__init__',\n",
       " '__init_subclass__',\n",
       " '__int__',\n",
       " '__invert__',\n",
       " '__ior__',\n",
       " '__ipow__',\n",
       " '__irshift__',\n",
       " '__isub__',\n",
       " '__iter__',\n",
       " '__itruediv__',\n",
       " '__ixor__',\n",
       " '__le__',\n",
       " '__len__',\n",
       " '__lshift__',\n",
       " '__lt__',\n",
       " '__matmul__',\n",
       " '__mod__',\n",
       " '__mul__',\n",
       " '__ne__',\n",
       " '__neg__',\n",
       " '__new__',\n",
       " '__or__',\n",
       " '__pos__',\n",
       " '__pow__',\n",
       " '__radd__',\n",
       " '__rand__',\n",
       " '__rdivmod__',\n",
       " '__reduce__',\n",
       " '__reduce_ex__',\n",
       " '__repr__',\n",
       " '__rfloordiv__',\n",
       " '__rlshift__',\n",
       " '__rmatmul__',\n",
       " '__rmod__',\n",
       " '__rmul__',\n",
       " '__ror__',\n",
       " '__rpow__',\n",
       " '__rrshift__',\n",
       " '__rshift__',\n",
       " '__rsub__',\n",
       " '__rtruediv__',\n",
       " '__rxor__',\n",
       " '__setattr__',\n",
       " '__setitem__',\n",
       " '__setstate__',\n",
       " '__sizeof__',\n",
       " '__str__',\n",
       " '__sub__',\n",
       " '__subclasshook__',\n",
       " '__truediv__',\n",
       " '__xor__',\n",
       " 'all',\n",
       " 'any',\n",
       " 'argmax',\n",
       " 'argmin',\n",
       " 'argpartition',\n",
       " 'argsort',\n",
       " 'astype',\n",
       " 'base',\n",
       " 'byteswap',\n",
       " 'choose',\n",
       " 'clip',\n",
       " 'compress',\n",
       " 'conj',\n",
       " 'conjugate',\n",
       " 'copy',\n",
       " 'ctypes',\n",
       " 'cumprod',\n",
       " 'cumsum',\n",
       " 'data',\n",
       " 'diagonal',\n",
       " 'dot',\n",
       " 'dtype',\n",
       " 'dump',\n",
       " 'dumps',\n",
       " 'fill',\n",
       " 'flags',\n",
       " 'flat',\n",
       " 'flatten',\n",
       " 'getfield',\n",
       " 'imag',\n",
       " 'item',\n",
       " 'itemset',\n",
       " 'itemsize',\n",
       " 'max',\n",
       " 'mean',\n",
       " 'min',\n",
       " 'nbytes',\n",
       " 'ndim',\n",
       " 'newbyteorder',\n",
       " 'nonzero',\n",
       " 'partition',\n",
       " 'prod',\n",
       " 'ptp',\n",
       " 'put',\n",
       " 'ravel',\n",
       " 'real',\n",
       " 'repeat',\n",
       " 'reshape',\n",
       " 'resize',\n",
       " 'round',\n",
       " 'searchsorted',\n",
       " 'setfield',\n",
       " 'setflags',\n",
       " 'shape',\n",
       " 'size',\n",
       " 'sort',\n",
       " 'squeeze',\n",
       " 'std',\n",
       " 'strides',\n",
       " 'sum',\n",
       " 'swapaxes',\n",
       " 'take',\n",
       " 'tobytes',\n",
       " 'tofile',\n",
       " 'tolist',\n",
       " 'tostring',\n",
       " 'trace',\n",
       " 'transpose',\n",
       " 'var',\n",
       " 'view']"
      ]
     },
     "execution_count": 115,
     "metadata": {},
     "output_type": "execute_result"
    }
   ],
   "source": [
    "dir(car)"
   ]
  },
  {
   "cell_type": "markdown",
   "metadata": {},
   "source": [
    " 2.What are the numpy datatypes for the `car`,`mpg`, `horsepower` and `origin` arrays? (Hint: Not `type(car)` and use `print()` to print the numpy type.)"
   ]
  },
  {
   "cell_type": "code",
   "execution_count": 63,
   "metadata": {},
   "outputs": [
    {
     "name": "stdout",
     "output_type": "stream",
     "text": [
      "object\n",
      "float64\n",
      "float64\n"
     ]
    }
   ],
   "source": [
    "print(car.dtype)\n",
    "print(mpg.dtype)\n",
    "print(horsepower.dtype)"
   ]
  },
  {
   "cell_type": "markdown",
   "metadata": {},
   "source": [
    "3.`numpy` is often imported as `np`. What is this action called? Why might you do this? "
   ]
  },
  {
   "cell_type": "code",
   "execution_count": null,
   "metadata": {},
   "outputs": [],
   "source": [
    "# np is an alias that directs to numpy. It is a naming convention that makes coding easier by shortening the phrase numpy"
   ]
  },
  {
   "cell_type": "markdown",
   "metadata": {},
   "source": [
    "4.Each of the arrays (cars, mpg, cylinders, etc..) has how many dimensions? Show how to find this using code. "
   ]
  },
  {
   "cell_type": "code",
   "execution_count": 30,
   "metadata": {},
   "outputs": [
    {
     "data": {
      "text/plain": [
       "1"
      ]
     },
     "execution_count": 30,
     "metadata": {},
     "output_type": "execute_result"
    }
   ],
   "source": [
    "#each of the listed arrays have 1 dimension. You can find this info by calling ndim\n",
    "\n",
    "#example of how to get dimensions\n",
    "mpg.ndim"
   ]
  },
  {
   "cell_type": "markdown",
   "metadata": {},
   "source": [
    "5.Show how to:\n",
    "\n",
    "- multiply the `mpg` array by 12.\n",
    "- divide the `mpg` array by 3.\n",
    "- raise the `mpg` array to the power of 4.\n",
    "- take the square root of the `mpg` array."
   ]
  },
  {
   "cell_type": "code",
   "execution_count": 120,
   "metadata": {
    "scrolled": true
   },
   "outputs": [
    {
     "data": {
      "text/plain": [
       "array([216. , 180. , 216. , 192. , 204. , 180. , 168. , 168. , 168. ,\n",
       "       180. ,   0. ,   0. ,   0. ,   0. ,   0. , 180. , 168. ,   0. ,\n",
       "       180. , 168. , 288. , 264. , 216. , 252. , 324. , 312. , 300. ,\n",
       "       288. , 300. , 312. , 252. , 120. , 120. , 132. , 108. , 324. ,\n",
       "       336. , 300. , 300. ,   0. , 228. , 192. , 204. , 228. , 216. ,\n",
       "       168. , 168. , 168. , 168. , 144. , 156. , 156. , 216. , 264. ,\n",
       "       228. , 216. , 276. , 336. , 360. , 360. , 372. , 420. , 324. ,\n",
       "       312. , 288. , 300. , 276. , 240. , 252. , 156. , 168. , 180. ,\n",
       "       168. , 204. , 132. , 156. , 144. , 156. , 228. , 180. , 156. ,\n",
       "       156. , 168. , 216. , 264. , 252. , 312. , 264. , 336. , 276. ,\n",
       "       336. , 324. , 156. , 168. , 156. , 168. , 180. , 144. , 156. ,\n",
       "       156. , 168. , 156. , 144. , 156. , 216. , 192. , 216. , 216. ,\n",
       "       276. , 312. , 132. , 144. , 156. , 144. , 216. , 240. , 252. ,\n",
       "       264. , 216. , 228. , 252. , 312. , 180. , 192. , 348. , 288. ,\n",
       "       240. , 228. , 180. , 288. , 240. , 132. , 240. , 252. , 228. ,\n",
       "       180. , 372. , 312. , 384. , 300. , 192. , 192. , 216. , 192. ,\n",
       "       156. , 168. , 168. , 168. , 348. , 312. , 312. , 372. , 384. ,\n",
       "       336. , 288. , 312. , 288. , 312. , 372. , 228. , 216. , 180. ,\n",
       "       180. , 192. , 180. , 192. , 168. , 204. , 192. , 180. , 216. ,\n",
       "       252. , 240. , 156. , 348. , 276. , 240. , 276. , 288. , 300. ,\n",
       "       288. , 216. , 348. , 228. , 276. , 276. , 264. , 300. , 396. ,\n",
       "       336. , 300. , 300. , 312. , 324. , 210. , 192. , 186. , 174. ,\n",
       "       264. , 264. , 288. , 270. , 348. , 294. , 348. , 396. , 240. ,\n",
       "       216. , 222. , 210. , 354. , 384. , 336. , 318. , 240. , 156. ,\n",
       "       228. , 228. , 198. , 198. , 156. , 156. , 156. , 378. , 360. ,\n",
       "       432. , 306. , 402. , 210. , 204. , 186. , 180. , 210. , 246. ,\n",
       "       228. , 222. , 192. , 186. , 186. , 192. , 348. , 294. , 312. ,\n",
       "       306. , 366. , 402. , 360. , 366. , 264. , 258. , 258. , 517.2,\n",
       "       433.2, 393.6, 472.8, 433.2, 238.8, 232.8, 242.4, 230.4, 246. ,\n",
       "       242.4, 301.2, 246. , 232.8, 247.2, 249.6, 223.2, 217.2, 230.4,\n",
       "       212.4, 217.2, 210. , 360. , 330. , 326.4, 370.8, 253.2, 278.4,\n",
       "       285.6, 286.8, 243.6, 204. , 259.2, 194.4, 378. , 354. , 258. ,\n",
       "       237.6, 267.6, 242.4, 247.2, 204. , 211.2, 198. , 218.4, 202.8,\n",
       "       186. , 230.4, 222. , 382.8, 409.2, 428.4, 328.8, 304.8, 276. ,\n",
       "       326.4, 286.8, 410.4, 414. , 381.6, 447.6, 340.8, 345.6, 321.6,\n",
       "       402. , 498. , 457.2, 385.2, 446.4, 336. , 316.8, 291.6, 229.2,\n",
       "       411.6, 357.6, 375.6, 444. , 386.4, 559.2, 334.8, 489.6, 531.6,\n",
       "       520.8, 436.8, 360. , 535.2, 490.8, 405.6, 357.6, 392.4, 284.4,\n",
       "       420. , 283.2, 388.8, 326.4, 319.2, 309.6, 282. , 360. , 469.2,\n",
       "       468. , 421.2, 387.6, 444. , 452.4, 409.2, 416.4, 412.8, 358.8,\n",
       "       396. , 414. , 404.4, 388.8, 394.8, 379.2, 337.2,   0. , 368.4,\n",
       "       304.8, 290.4, 268.8, 319.2, 242.4, 211.2, 336. , 324. , 408. ,\n",
       "       372. , 348. , 324. , 288. , 276. , 432. , 444. , 372. , 456. ,\n",
       "       432. , 432. , 432. , 408. , 456. , 384. , 456. , 300. , 456. ,\n",
       "       312. , 264. , 384. , 432. , 324. , 324. , 528. , 384. , 336. ,\n",
       "       372. ])"
      ]
     },
     "execution_count": 120,
     "metadata": {},
     "output_type": "execute_result"
    }
   ],
   "source": [
    "mpg*12"
   ]
  },
  {
   "cell_type": "code",
   "execution_count": 121,
   "metadata": {},
   "outputs": [
    {
     "data": {
      "text/plain": [
       "array([216. , 180. , 216. , 192. , 204. , 180. , 168. , 168. , 168. ,\n",
       "       180. ,   0. ,   0. ,   0. ,   0. ,   0. , 180. , 168. ,   0. ,\n",
       "       180. , 168. , 288. , 264. , 216. , 252. , 324. , 312. , 300. ,\n",
       "       288. , 300. , 312. , 252. , 120. , 120. , 132. , 108. , 324. ,\n",
       "       336. , 300. , 300. ,   0. , 228. , 192. , 204. , 228. , 216. ,\n",
       "       168. , 168. , 168. , 168. , 144. , 156. , 156. , 216. , 264. ,\n",
       "       228. , 216. , 276. , 336. , 360. , 360. , 372. , 420. , 324. ,\n",
       "       312. , 288. , 300. , 276. , 240. , 252. , 156. , 168. , 180. ,\n",
       "       168. , 204. , 132. , 156. , 144. , 156. , 228. , 180. , 156. ,\n",
       "       156. , 168. , 216. , 264. , 252. , 312. , 264. , 336. , 276. ,\n",
       "       336. , 324. , 156. , 168. , 156. , 168. , 180. , 144. , 156. ,\n",
       "       156. , 168. , 156. , 144. , 156. , 216. , 192. , 216. , 216. ,\n",
       "       276. , 312. , 132. , 144. , 156. , 144. , 216. , 240. , 252. ,\n",
       "       264. , 216. , 228. , 252. , 312. , 180. , 192. , 348. , 288. ,\n",
       "       240. , 228. , 180. , 288. , 240. , 132. , 240. , 252. , 228. ,\n",
       "       180. , 372. , 312. , 384. , 300. , 192. , 192. , 216. , 192. ,\n",
       "       156. , 168. , 168. , 168. , 348. , 312. , 312. , 372. , 384. ,\n",
       "       336. , 288. , 312. , 288. , 312. , 372. , 228. , 216. , 180. ,\n",
       "       180. , 192. , 180. , 192. , 168. , 204. , 192. , 180. , 216. ,\n",
       "       252. , 240. , 156. , 348. , 276. , 240. , 276. , 288. , 300. ,\n",
       "       288. , 216. , 348. , 228. , 276. , 276. , 264. , 300. , 396. ,\n",
       "       336. , 300. , 300. , 312. , 324. , 210. , 192. , 186. , 174. ,\n",
       "       264. , 264. , 288. , 270. , 348. , 294. , 348. , 396. , 240. ,\n",
       "       216. , 222. , 210. , 354. , 384. , 336. , 318. , 240. , 156. ,\n",
       "       228. , 228. , 198. , 198. , 156. , 156. , 156. , 378. , 360. ,\n",
       "       432. , 306. , 402. , 210. , 204. , 186. , 180. , 210. , 246. ,\n",
       "       228. , 222. , 192. , 186. , 186. , 192. , 348. , 294. , 312. ,\n",
       "       306. , 366. , 402. , 360. , 366. , 264. , 258. , 258. , 517.2,\n",
       "       433.2, 393.6, 472.8, 433.2, 238.8, 232.8, 242.4, 230.4, 246. ,\n",
       "       242.4, 301.2, 246. , 232.8, 247.2, 249.6, 223.2, 217.2, 230.4,\n",
       "       212.4, 217.2, 210. , 360. , 330. , 326.4, 370.8, 253.2, 278.4,\n",
       "       285.6, 286.8, 243.6, 204. , 259.2, 194.4, 378. , 354. , 258. ,\n",
       "       237.6, 267.6, 242.4, 247.2, 204. , 211.2, 198. , 218.4, 202.8,\n",
       "       186. , 230.4, 222. , 382.8, 409.2, 428.4, 328.8, 304.8, 276. ,\n",
       "       326.4, 286.8, 410.4, 414. , 381.6, 447.6, 340.8, 345.6, 321.6,\n",
       "       402. , 498. , 457.2, 385.2, 446.4, 336. , 316.8, 291.6, 229.2,\n",
       "       411.6, 357.6, 375.6, 444. , 386.4, 559.2, 334.8, 489.6, 531.6,\n",
       "       520.8, 436.8, 360. , 535.2, 490.8, 405.6, 357.6, 392.4, 284.4,\n",
       "       420. , 283.2, 388.8, 326.4, 319.2, 309.6, 282. , 360. , 469.2,\n",
       "       468. , 421.2, 387.6, 444. , 452.4, 409.2, 416.4, 412.8, 358.8,\n",
       "       396. , 414. , 404.4, 388.8, 394.8, 379.2, 337.2,   0. , 368.4,\n",
       "       304.8, 290.4, 268.8, 319.2, 242.4, 211.2, 336. , 324. , 408. ,\n",
       "       372. , 348. , 324. , 288. , 276. , 432. , 444. , 372. , 456. ,\n",
       "       432. , 432. , 432. , 408. , 456. , 384. , 456. , 300. , 456. ,\n",
       "       312. , 264. , 384. , 432. , 324. , 324. , 528. , 384. , 336. ,\n",
       "       372. ])"
      ]
     },
     "execution_count": 121,
     "metadata": {},
     "output_type": "execute_result"
    }
   ],
   "source": [
    "#another way to multiple the array\n",
    "np.multiply(mpg,12)"
   ]
  },
  {
   "cell_type": "code",
   "execution_count": 122,
   "metadata": {},
   "outputs": [
    {
     "data": {
      "text/plain": [
       "array([1.5       , 1.25      , 1.5       , 1.33333333, 1.41666667,\n",
       "       1.25      , 1.16666667, 1.16666667, 1.16666667, 1.25      ,\n",
       "       0.        , 0.        , 0.        , 0.        , 0.        ,\n",
       "       1.25      , 1.16666667, 0.        , 1.25      , 1.16666667,\n",
       "       2.        , 1.83333333, 1.5       , 1.75      , 2.25      ,\n",
       "       2.16666667, 2.08333333, 2.        , 2.08333333, 2.16666667,\n",
       "       1.75      , 0.83333333, 0.83333333, 0.91666667, 0.75      ,\n",
       "       2.25      , 2.33333333, 2.08333333, 2.08333333, 0.        ,\n",
       "       1.58333333, 1.33333333, 1.41666667, 1.58333333, 1.5       ,\n",
       "       1.16666667, 1.16666667, 1.16666667, 1.16666667, 1.        ,\n",
       "       1.08333333, 1.08333333, 1.5       , 1.83333333, 1.58333333,\n",
       "       1.5       , 1.91666667, 2.33333333, 2.5       , 2.5       ,\n",
       "       2.58333333, 2.91666667, 2.25      , 2.16666667, 2.        ,\n",
       "       2.08333333, 1.91666667, 1.66666667, 1.75      , 1.08333333,\n",
       "       1.16666667, 1.25      , 1.16666667, 1.41666667, 0.91666667,\n",
       "       1.08333333, 1.        , 1.08333333, 1.58333333, 1.25      ,\n",
       "       1.08333333, 1.08333333, 1.16666667, 1.5       , 1.83333333,\n",
       "       1.75      , 2.16666667, 1.83333333, 2.33333333, 1.91666667,\n",
       "       2.33333333, 2.25      , 1.08333333, 1.16666667, 1.08333333,\n",
       "       1.16666667, 1.25      , 1.        , 1.08333333, 1.08333333,\n",
       "       1.16666667, 1.08333333, 1.        , 1.08333333, 1.5       ,\n",
       "       1.33333333, 1.5       , 1.5       , 1.91666667, 2.16666667,\n",
       "       0.91666667, 1.        , 1.08333333, 1.        , 1.5       ,\n",
       "       1.66666667, 1.75      , 1.83333333, 1.5       , 1.58333333,\n",
       "       1.75      , 2.16666667, 1.25      , 1.33333333, 2.41666667,\n",
       "       2.        , 1.66666667, 1.58333333, 1.25      , 2.        ,\n",
       "       1.66666667, 0.91666667, 1.66666667, 1.75      , 1.58333333,\n",
       "       1.25      , 2.58333333, 2.16666667, 2.66666667, 2.08333333,\n",
       "       1.33333333, 1.33333333, 1.5       , 1.33333333, 1.08333333,\n",
       "       1.16666667, 1.16666667, 1.16666667, 2.41666667, 2.16666667,\n",
       "       2.16666667, 2.58333333, 2.66666667, 2.33333333, 2.        ,\n",
       "       2.16666667, 2.        , 2.16666667, 2.58333333, 1.58333333,\n",
       "       1.5       , 1.25      , 1.25      , 1.33333333, 1.25      ,\n",
       "       1.33333333, 1.16666667, 1.41666667, 1.33333333, 1.25      ,\n",
       "       1.5       , 1.75      , 1.66666667, 1.08333333, 2.41666667,\n",
       "       1.91666667, 1.66666667, 1.91666667, 2.        , 2.08333333,\n",
       "       2.        , 1.5       , 2.41666667, 1.58333333, 1.91666667,\n",
       "       1.91666667, 1.83333333, 2.08333333, 2.75      , 2.33333333,\n",
       "       2.08333333, 2.08333333, 2.16666667, 2.25      , 1.45833333,\n",
       "       1.33333333, 1.29166667, 1.20833333, 1.83333333, 1.83333333,\n",
       "       2.        , 1.875     , 2.41666667, 2.04166667, 2.41666667,\n",
       "       2.75      , 1.66666667, 1.5       , 1.54166667, 1.45833333,\n",
       "       2.45833333, 2.66666667, 2.33333333, 2.20833333, 1.66666667,\n",
       "       1.08333333, 1.58333333, 1.58333333, 1.375     , 1.375     ,\n",
       "       1.08333333, 1.08333333, 1.08333333, 2.625     , 2.5       ,\n",
       "       3.        , 2.125     , 2.79166667, 1.45833333, 1.41666667,\n",
       "       1.29166667, 1.25      , 1.45833333, 1.70833333, 1.58333333,\n",
       "       1.54166667, 1.33333333, 1.29166667, 1.29166667, 1.33333333,\n",
       "       2.41666667, 2.04166667, 2.16666667, 2.125     , 2.54166667,\n",
       "       2.79166667, 2.5       , 2.54166667, 1.83333333, 1.79166667,\n",
       "       1.79166667, 3.59166667, 3.00833333, 2.73333333, 3.28333333,\n",
       "       3.00833333, 1.65833333, 1.61666667, 1.68333333, 1.6       ,\n",
       "       1.70833333, 1.68333333, 2.09166667, 1.70833333, 1.61666667,\n",
       "       1.71666667, 1.73333333, 1.55      , 1.50833333, 1.6       ,\n",
       "       1.475     , 1.50833333, 1.45833333, 2.5       , 2.29166667,\n",
       "       2.26666667, 2.575     , 1.75833333, 1.93333333, 1.98333333,\n",
       "       1.99166667, 1.69166667, 1.41666667, 1.8       , 1.35      ,\n",
       "       2.625     , 2.45833333, 1.79166667, 1.65      , 1.85833333,\n",
       "       1.68333333, 1.71666667, 1.41666667, 1.46666667, 1.375     ,\n",
       "       1.51666667, 1.40833333, 1.29166667, 1.6       , 1.54166667,\n",
       "       2.65833333, 2.84166667, 2.975     , 2.28333333, 2.11666667,\n",
       "       1.91666667, 2.26666667, 1.99166667, 2.85      , 2.875     ,\n",
       "       2.65      , 3.10833333, 2.36666667, 2.4       , 2.23333333,\n",
       "       2.79166667, 3.45833333, 3.175     , 2.675     , 3.1       ,\n",
       "       2.33333333, 2.2       , 2.025     , 1.59166667, 2.85833333,\n",
       "       2.48333333, 2.60833333, 3.08333333, 2.68333333, 3.88333333,\n",
       "       2.325     , 3.4       , 3.69166667, 3.61666667, 3.03333333,\n",
       "       2.5       , 3.71666667, 3.40833333, 2.81666667, 2.48333333,\n",
       "       2.725     , 1.975     , 2.91666667, 1.96666667, 2.7       ,\n",
       "       2.26666667, 2.21666667, 2.15      , 1.95833333, 2.5       ,\n",
       "       3.25833333, 3.25      , 2.925     , 2.69166667, 3.08333333,\n",
       "       3.14166667, 2.84166667, 2.89166667, 2.86666667, 2.49166667,\n",
       "       2.75      , 2.875     , 2.80833333, 2.7       , 2.74166667,\n",
       "       2.63333333, 2.34166667, 0.        , 2.55833333, 2.11666667,\n",
       "       2.01666667, 1.86666667, 2.21666667, 1.68333333, 1.46666667,\n",
       "       2.33333333, 2.25      , 2.83333333, 2.58333333, 2.41666667,\n",
       "       2.25      , 2.        , 1.91666667, 3.        , 3.08333333,\n",
       "       2.58333333, 3.16666667, 3.        , 3.        , 3.        ,\n",
       "       2.83333333, 3.16666667, 2.66666667, 3.16666667, 2.08333333,\n",
       "       3.16666667, 2.16666667, 1.83333333, 2.66666667, 3.        ,\n",
       "       2.25      , 2.25      , 3.66666667, 2.66666667, 2.33333333,\n",
       "       2.58333333])"
      ]
     },
     "execution_count": 122,
     "metadata": {},
     "output_type": "execute_result"
    }
   ],
   "source": [
    "mpg/12"
   ]
  },
  {
   "cell_type": "code",
   "execution_count": 123,
   "metadata": {},
   "outputs": [
    {
     "data": {
      "text/plain": [
       "array([6.56599691e+07, 3.26901737e+06, 6.56599691e+07, 8.88611052e+06,\n",
       "       2.41549528e+07, 3.26901737e+06, 1.20260428e+06, 1.20260428e+06,\n",
       "       1.20260428e+06, 3.26901737e+06, 1.00000000e+00, 1.00000000e+00,\n",
       "       1.00000000e+00, 1.00000000e+00, 1.00000000e+00, 3.26901737e+06,\n",
       "       1.20260428e+06, 1.00000000e+00, 3.26901737e+06, 1.20260428e+06,\n",
       "       2.64891221e+10, 3.58491285e+09, 6.56599691e+07, 1.31881573e+09,\n",
       "       5.32048241e+11, 1.95729609e+11, 7.20048993e+10, 2.64891221e+10,\n",
       "       7.20048993e+10, 1.95729609e+11, 1.31881573e+09, 2.20264658e+04,\n",
       "       2.20264658e+04, 5.98741417e+04, 8.10308393e+03, 5.32048241e+11,\n",
       "       1.44625706e+12, 7.20048993e+10, 7.20048993e+10, 1.00000000e+00,\n",
       "       1.78482301e+08, 8.88611052e+06, 2.41549528e+07, 1.78482301e+08,\n",
       "       6.56599691e+07, 1.20260428e+06, 1.20260428e+06, 1.20260428e+06,\n",
       "       1.20260428e+06, 1.62754791e+05, 4.42413392e+05, 4.42413392e+05,\n",
       "       6.56599691e+07, 3.58491285e+09, 1.78482301e+08, 6.56599691e+07,\n",
       "       9.74480345e+09, 1.44625706e+12, 1.06864746e+13, 1.06864746e+13,\n",
       "       2.90488497e+13, 1.58601345e+15, 5.32048241e+11, 1.95729609e+11,\n",
       "       2.64891221e+10, 7.20048993e+10, 9.74480345e+09, 4.85165195e+08,\n",
       "       1.31881573e+09, 4.42413392e+05, 1.20260428e+06, 3.26901737e+06,\n",
       "       1.20260428e+06, 2.41549528e+07, 5.98741417e+04, 4.42413392e+05,\n",
       "       1.62754791e+05, 4.42413392e+05, 1.78482301e+08, 3.26901737e+06,\n",
       "       4.42413392e+05, 4.42413392e+05, 1.20260428e+06, 6.56599691e+07,\n",
       "       3.58491285e+09, 1.31881573e+09, 1.95729609e+11, 3.58491285e+09,\n",
       "       1.44625706e+12, 9.74480345e+09, 1.44625706e+12, 5.32048241e+11,\n",
       "       4.42413392e+05, 1.20260428e+06, 4.42413392e+05, 1.20260428e+06,\n",
       "       3.26901737e+06, 1.62754791e+05, 4.42413392e+05, 4.42413392e+05,\n",
       "       1.20260428e+06, 4.42413392e+05, 1.62754791e+05, 4.42413392e+05,\n",
       "       6.56599691e+07, 8.88611052e+06, 6.56599691e+07, 6.56599691e+07,\n",
       "       9.74480345e+09, 1.95729609e+11, 5.98741417e+04, 1.62754791e+05,\n",
       "       4.42413392e+05, 1.62754791e+05, 6.56599691e+07, 4.85165195e+08,\n",
       "       1.31881573e+09, 3.58491285e+09, 6.56599691e+07, 1.78482301e+08,\n",
       "       1.31881573e+09, 1.95729609e+11, 3.26901737e+06, 8.88611052e+06,\n",
       "       3.93133430e+12, 2.64891221e+10, 4.85165195e+08, 1.78482301e+08,\n",
       "       3.26901737e+06, 2.64891221e+10, 4.85165195e+08, 5.98741417e+04,\n",
       "       4.85165195e+08, 1.31881573e+09, 1.78482301e+08, 3.26901737e+06,\n",
       "       2.90488497e+13, 1.95729609e+11, 7.89629602e+13, 7.20048993e+10,\n",
       "       8.88611052e+06, 8.88611052e+06, 6.56599691e+07, 8.88611052e+06,\n",
       "       4.42413392e+05, 1.20260428e+06, 1.20260428e+06, 1.20260428e+06,\n",
       "       3.93133430e+12, 1.95729609e+11, 1.95729609e+11, 2.90488497e+13,\n",
       "       7.89629602e+13, 1.44625706e+12, 2.64891221e+10, 1.95729609e+11,\n",
       "       2.64891221e+10, 1.95729609e+11, 2.90488497e+13, 1.78482301e+08,\n",
       "       6.56599691e+07, 3.26901737e+06, 3.26901737e+06, 8.88611052e+06,\n",
       "       3.26901737e+06, 8.88611052e+06, 1.20260428e+06, 2.41549528e+07,\n",
       "       8.88611052e+06, 3.26901737e+06, 6.56599691e+07, 1.31881573e+09,\n",
       "       4.85165195e+08, 4.42413392e+05, 3.93133430e+12, 9.74480345e+09,\n",
       "       4.85165195e+08, 9.74480345e+09, 2.64891221e+10, 7.20048993e+10,\n",
       "       2.64891221e+10, 6.56599691e+07, 3.93133430e+12, 1.78482301e+08,\n",
       "       9.74480345e+09, 9.74480345e+09, 3.58491285e+09, 7.20048993e+10,\n",
       "       2.14643580e+14, 1.44625706e+12, 7.20048993e+10, 7.20048993e+10,\n",
       "       1.95729609e+11, 5.32048241e+11, 3.98247844e+07, 8.88611052e+06,\n",
       "       5.38969848e+06, 1.98275926e+06, 3.58491285e+09, 3.58491285e+09,\n",
       "       2.64891221e+10, 5.91052206e+09, 3.93133430e+12, 4.36731791e+10,\n",
       "       3.93133430e+12, 2.14643580e+14, 4.85165195e+08, 6.56599691e+07,\n",
       "       1.08254988e+08, 3.98247844e+07, 6.48167448e+12, 7.89629602e+13,\n",
       "       1.44625706e+12, 3.22703570e+11, 4.85165195e+08, 4.42413392e+05,\n",
       "       1.78482301e+08, 1.78482301e+08, 1.46507194e+07, 1.46507194e+07,\n",
       "       4.42413392e+05, 4.42413392e+05, 4.42413392e+05, 4.78934563e+13,\n",
       "       1.06864746e+13, 4.31123155e+15, 1.18716009e+11, 3.53887436e+14,\n",
       "       3.98247844e+07, 2.41549528e+07, 5.38969848e+06, 3.26901737e+06,\n",
       "       3.98247844e+07, 7.99902177e+08, 1.78482301e+08, 1.08254988e+08,\n",
       "       8.88611052e+06, 5.38969848e+06, 5.38969848e+06, 8.88611052e+06,\n",
       "       3.93133430e+12, 4.36731791e+10, 1.95729609e+11, 1.18716009e+11,\n",
       "       1.76190180e+13, 3.53887436e+14, 1.06864746e+13, 1.76190180e+13,\n",
       "       3.58491285e+09, 2.17435955e+09, 2.17435955e+09, 5.22507069e+18,\n",
       "       4.76464773e+15, 1.75735300e+14, 1.29182173e+17, 4.76464773e+15,\n",
       "       4.38995623e+08, 2.66264305e+08, 5.92582108e+08, 2.17998775e+08,\n",
       "       7.99902177e+08, 5.92582108e+08, 7.95777207e+10, 7.99902177e+08,\n",
       "       2.66264305e+08, 8.84028624e+08, 1.07975500e+09, 1.19640264e+08,\n",
       "       7.25654884e+07, 2.17998775e+08, 4.86421015e+07, 7.25654884e+07,\n",
       "       3.98247844e+07, 1.06864746e+13, 8.77199251e+11, 6.49845189e+11,\n",
       "       2.62844861e+13, 1.45751680e+09, 1.19023298e+10, 2.16874589e+10,\n",
       "       2.39683489e+10, 6.54904512e+08, 2.41549528e+07, 2.40303894e+09,\n",
       "       1.08535199e+07, 4.78934563e+13, 6.48167448e+12, 2.17435955e+09,\n",
       "       3.97219666e+08, 4.83912618e+09, 5.92582108e+08, 8.84028624e+08,\n",
       "       2.41549528e+07, 4.40131935e+07, 1.46507194e+07, 8.01972674e+07,\n",
       "       2.18563051e+07, 5.38969848e+06, 2.17998775e+08, 1.08254988e+08,\n",
       "       7.14486410e+13, 6.44824950e+14, 3.19383888e+15, 7.93722706e+11,\n",
       "       1.07418687e+11, 9.74480345e+09, 6.49845189e+11, 2.39683489e+10,\n",
       "       7.12641782e+14, 9.61965786e+14, 6.46494039e+13, 1.58191875e+16,\n",
       "       2.15756201e+12, 3.21870429e+12, 4.35604257e+11, 3.53887436e+14,\n",
       "       1.05492358e+18, 3.52062493e+16, 8.72675672e+13, 1.43137928e+16,\n",
       "       1.44625706e+12, 2.91994265e+11, 3.57565748e+10, 1.97253448e+08,\n",
       "       7.87590972e+14, 8.74934538e+12, 3.92118456e+13, 1.17191424e+16,\n",
       "       9.64455774e+13, 1.73030577e+20, 1.30862751e+12, 5.23859545e+17,\n",
       "       1.73478456e+19, 7.05310769e+18, 6.43160170e+15, 1.06864746e+13,\n",
       "       2.34171422e+19, 5.78954335e+17, 4.77698072e+14, 8.74934538e+12,\n",
       "       1.59011875e+14, 1.96236243e+10, 1.58601345e+15, 1.77561896e+10,\n",
       "       1.17798894e+14, 6.49845189e+11, 3.56642601e+11, 1.60249851e+11,\n",
       "       1.60664647e+10, 1.06864746e+13, 9.57005078e+16, 8.65934004e+16,\n",
       "       1.75281594e+15, 1.06588847e+14, 1.17191424e+16, 2.35994547e+16,\n",
       "       6.44824950e+14, 1.17494766e+15, 8.70422638e+14, 9.66952207e+12,\n",
       "       2.14643580e+14, 9.61965786e+14, 4.32239090e+14, 1.17798894e+14,\n",
       "       1.94217543e+14, 5.29304551e+13, 1.59836125e+12, 1.00000000e+00,\n",
       "       2.15199171e+13, 1.07418687e+11, 3.23538868e+10, 5.34806152e+09,\n",
       "       3.56642601e+11, 5.92582108e+08, 4.40131935e+07, 1.44625706e+12,\n",
       "       5.32048241e+11, 5.83461743e+14, 2.90488497e+13, 3.93133430e+12,\n",
       "       5.32048241e+11, 2.64891221e+10, 9.74480345e+09, 4.31123155e+15,\n",
       "       1.17191424e+16, 2.90488497e+13, 3.18559318e+16, 4.31123155e+15,\n",
       "       4.31123155e+15, 4.31123155e+15, 5.83461743e+14, 3.18559318e+16,\n",
       "       7.89629602e+13, 3.18559318e+16, 7.20048993e+10, 3.18559318e+16,\n",
       "       1.95729609e+11, 3.58491285e+09, 7.89629602e+13, 4.31123155e+15,\n",
       "       5.32048241e+11, 5.32048241e+11, 1.28516001e+19, 7.89629602e+13,\n",
       "       1.44625706e+12, 2.90488497e+13])"
      ]
     },
     "execution_count": 123,
     "metadata": {},
     "output_type": "execute_result"
    }
   ],
   "source": [
    "np.exp(mpg)"
   ]
  },
  {
   "cell_type": "code",
   "execution_count": 124,
   "metadata": {},
   "outputs": [
    {
     "data": {
      "text/plain": [
       "array([4.24264069, 3.87298335, 4.24264069, 4.        , 4.12310563,\n",
       "       3.87298335, 3.74165739, 3.74165739, 3.74165739, 3.87298335,\n",
       "       0.        , 0.        , 0.        , 0.        , 0.        ,\n",
       "       3.87298335, 3.74165739, 0.        , 3.87298335, 3.74165739,\n",
       "       4.89897949, 4.69041576, 4.24264069, 4.58257569, 5.19615242,\n",
       "       5.09901951, 5.        , 4.89897949, 5.        , 5.09901951,\n",
       "       4.58257569, 3.16227766, 3.16227766, 3.31662479, 3.        ,\n",
       "       5.19615242, 5.29150262, 5.        , 5.        , 0.        ,\n",
       "       4.35889894, 4.        , 4.12310563, 4.35889894, 4.24264069,\n",
       "       3.74165739, 3.74165739, 3.74165739, 3.74165739, 3.46410162,\n",
       "       3.60555128, 3.60555128, 4.24264069, 4.69041576, 4.35889894,\n",
       "       4.24264069, 4.79583152, 5.29150262, 5.47722558, 5.47722558,\n",
       "       5.56776436, 5.91607978, 5.19615242, 5.09901951, 4.89897949,\n",
       "       5.        , 4.79583152, 4.47213595, 4.58257569, 3.60555128,\n",
       "       3.74165739, 3.87298335, 3.74165739, 4.12310563, 3.31662479,\n",
       "       3.60555128, 3.46410162, 3.60555128, 4.35889894, 3.87298335,\n",
       "       3.60555128, 3.60555128, 3.74165739, 4.24264069, 4.69041576,\n",
       "       4.58257569, 5.09901951, 4.69041576, 5.29150262, 4.79583152,\n",
       "       5.29150262, 5.19615242, 3.60555128, 3.74165739, 3.60555128,\n",
       "       3.74165739, 3.87298335, 3.46410162, 3.60555128, 3.60555128,\n",
       "       3.74165739, 3.60555128, 3.46410162, 3.60555128, 4.24264069,\n",
       "       4.        , 4.24264069, 4.24264069, 4.79583152, 5.09901951,\n",
       "       3.31662479, 3.46410162, 3.60555128, 3.46410162, 4.24264069,\n",
       "       4.47213595, 4.58257569, 4.69041576, 4.24264069, 4.35889894,\n",
       "       4.58257569, 5.09901951, 3.87298335, 4.        , 5.38516481,\n",
       "       4.89897949, 4.47213595, 4.35889894, 3.87298335, 4.89897949,\n",
       "       4.47213595, 3.31662479, 4.47213595, 4.58257569, 4.35889894,\n",
       "       3.87298335, 5.56776436, 5.09901951, 5.65685425, 5.        ,\n",
       "       4.        , 4.        , 4.24264069, 4.        , 3.60555128,\n",
       "       3.74165739, 3.74165739, 3.74165739, 5.38516481, 5.09901951,\n",
       "       5.09901951, 5.56776436, 5.65685425, 5.29150262, 4.89897949,\n",
       "       5.09901951, 4.89897949, 5.09901951, 5.56776436, 4.35889894,\n",
       "       4.24264069, 3.87298335, 3.87298335, 4.        , 3.87298335,\n",
       "       4.        , 3.74165739, 4.12310563, 4.        , 3.87298335,\n",
       "       4.24264069, 4.58257569, 4.47213595, 3.60555128, 5.38516481,\n",
       "       4.79583152, 4.47213595, 4.79583152, 4.89897949, 5.        ,\n",
       "       4.89897949, 4.24264069, 5.38516481, 4.35889894, 4.79583152,\n",
       "       4.79583152, 4.69041576, 5.        , 5.74456265, 5.29150262,\n",
       "       5.        , 5.        , 5.09901951, 5.19615242, 4.18330013,\n",
       "       4.        , 3.93700394, 3.80788655, 4.69041576, 4.69041576,\n",
       "       4.89897949, 4.74341649, 5.38516481, 4.94974747, 5.38516481,\n",
       "       5.74456265, 4.47213595, 4.24264069, 4.30116263, 4.18330013,\n",
       "       5.43139025, 5.65685425, 5.29150262, 5.14781507, 4.47213595,\n",
       "       3.60555128, 4.35889894, 4.35889894, 4.0620192 , 4.0620192 ,\n",
       "       3.60555128, 3.60555128, 3.60555128, 5.61248608, 5.47722558,\n",
       "       6.        , 5.04975247, 5.78791845, 4.18330013, 4.12310563,\n",
       "       3.93700394, 3.87298335, 4.18330013, 4.52769257, 4.35889894,\n",
       "       4.30116263, 4.        , 3.93700394, 3.93700394, 4.        ,\n",
       "       5.38516481, 4.94974747, 5.09901951, 5.04975247, 5.52268051,\n",
       "       5.78791845, 5.47722558, 5.52268051, 4.69041576, 4.63680925,\n",
       "       4.63680925, 6.56505902, 6.00832755, 5.72712843, 6.27694193,\n",
       "       6.00832755, 4.4609416 , 4.40454311, 4.49444101, 4.38178046,\n",
       "       4.52769257, 4.49444101, 5.00999002, 4.52769257, 4.40454311,\n",
       "       4.53872229, 4.5607017 , 4.31277173, 4.25440948, 4.38178046,\n",
       "       4.20713679, 4.25440948, 4.18330013, 5.47722558, 5.24404424,\n",
       "       5.21536192, 5.55877684, 4.59347363, 4.81663783, 4.87852437,\n",
       "       4.88876262, 4.50555213, 4.12310563, 4.64758002, 4.02492236,\n",
       "       5.61248608, 5.43139025, 4.63680925, 4.44971909, 4.72228758,\n",
       "       4.49444101, 4.53872229, 4.12310563, 4.19523539, 4.0620192 ,\n",
       "       4.2661458 , 4.11096096, 3.93700394, 4.38178046, 4.30116263,\n",
       "       5.6480085 , 5.83952053, 5.9749477 , 5.23450093, 5.03984127,\n",
       "       4.79583152, 5.21536192, 4.88876262, 5.84807661, 5.87367006,\n",
       "       5.63914887, 6.10737259, 5.32916504, 5.36656315, 5.17687164,\n",
       "       5.78791845, 6.44204936, 6.17251974, 5.66568619, 6.09918027,\n",
       "       5.29150262, 5.13809303, 4.92950302, 4.37035468, 5.85662019,\n",
       "       5.45893763, 5.59464029, 6.08276253, 5.67450438, 6.82641927,\n",
       "       5.28204506, 6.38748777, 6.65582452, 6.58786764, 6.03324125,\n",
       "       5.47722558, 6.67832314, 6.39531078, 5.81377674, 5.45893763,\n",
       "       5.71839138, 4.86826458, 5.91607978, 4.85798312, 5.69209979,\n",
       "       5.21536192, 5.15751878, 5.07937004, 4.84767986, 5.47722558,\n",
       "       6.25299928, 6.244998  , 5.9245253 , 5.6833089 , 6.08276253,\n",
       "       6.14003257, 5.83952053, 5.89067059, 5.86515132, 5.46808925,\n",
       "       5.74456265, 5.87367006, 5.80517011, 5.69209979, 5.73585216,\n",
       "       5.62138773, 5.30094331, 0.        , 5.54075807, 5.03984127,\n",
       "       4.91934955, 4.73286383, 5.15751878, 4.49444101, 4.19523539,\n",
       "       5.29150262, 5.19615242, 5.83095189, 5.56776436, 5.38516481,\n",
       "       5.19615242, 4.89897949, 4.79583152, 6.        , 6.08276253,\n",
       "       5.56776436, 6.164414  , 6.        , 6.        , 6.        ,\n",
       "       5.83095189, 6.164414  , 5.65685425, 6.164414  , 5.        ,\n",
       "       6.164414  , 5.09901951, 4.69041576, 5.65685425, 6.        ,\n",
       "       5.19615242, 5.19615242, 6.63324958, 5.65685425, 5.29150262,\n",
       "       5.56776436])"
      ]
     },
     "execution_count": 124,
     "metadata": {},
     "output_type": "execute_result"
    }
   ],
   "source": [
    "np.sqrt(mpg)"
   ]
  },
  {
   "cell_type": "markdown",
   "metadata": {},
   "source": [
    "6.What is the ___ of `horsepower`?\n",
    "- sum\n",
    "- min\n",
    "- max\n",
    "- median\n",
    "- Optional: mode (May need to google help)"
   ]
  },
  {
   "cell_type": "code",
   "execution_count": 13,
   "metadata": {},
   "outputs": [
    {
     "data": {
      "text/plain": [
       "42033.0"
      ]
     },
     "execution_count": 13,
     "metadata": {},
     "output_type": "execute_result"
    }
   ],
   "source": [
    "np.sum(horsepower) #sum"
   ]
  },
  {
   "cell_type": "code",
   "execution_count": 17,
   "metadata": {},
   "outputs": [
    {
     "data": {
      "text/plain": [
       "0.0"
      ]
     },
     "execution_count": 17,
     "metadata": {},
     "output_type": "execute_result"
    }
   ],
   "source": [
    "np.amin(horsepower) #min"
   ]
  },
  {
   "cell_type": "code",
   "execution_count": 18,
   "metadata": {},
   "outputs": [
    {
     "data": {
      "text/plain": [
       "230.0"
      ]
     },
     "execution_count": 18,
     "metadata": {},
     "output_type": "execute_result"
    }
   ],
   "source": [
    "np.amax(horsepower) #max"
   ]
  },
  {
   "cell_type": "code",
   "execution_count": 12,
   "metadata": {},
   "outputs": [
    {
     "data": {
      "text/plain": [
       "93.5"
      ]
     },
     "execution_count": 12,
     "metadata": {},
     "output_type": "execute_result"
    }
   ],
   "source": [
    "np.median(horsepower) #median"
   ]
  },
  {
   "cell_type": "code",
   "execution_count": 20,
   "metadata": {},
   "outputs": [
    {
     "data": {
      "text/plain": [
       "ModeResult(mode=array([150.]), count=array([22]))"
      ]
     },
     "execution_count": 20,
     "metadata": {},
     "output_type": "execute_result"
    }
   ],
   "source": [
    "from scipy import stats\n",
    "    \n",
    "stats.mode(horsepower)         #mode"
   ]
  },
  {
   "cell_type": "markdown",
   "metadata": {},
   "source": [
    "7.Select a subset of `acceleration`. \n",
    "\n",
    "- Select only the first 5 elements.\n",
    "- Select every other element (new selection)."
   ]
  },
  {
   "cell_type": "code",
   "execution_count": 25,
   "metadata": {},
   "outputs": [
    {
     "name": "stdout",
     "output_type": "stream",
     "text": [
      "[12.  11.5 11.  12.  10.5]\n"
     ]
    }
   ],
   "source": [
    "print(acceleration[0:5]) #first 5 elements"
   ]
  },
  {
   "cell_type": "code",
   "execution_count": 26,
   "metadata": {},
   "outputs": [
    {
     "name": "stdout",
     "output_type": "stream",
     "text": [
      "[12.  11.  10.5  9.  10.  17.5 11.  11.   8.   9.5 15.  15.5 14.5 17.5\n",
      " 17.5 15.  15.  18.5 15.5 19.  13.  15.5 15.5 11.5 13.  12.  13.5 15.\n",
      " 14.  19.5 19.  19.  15.5 23.5 16.5 12.  13.  11.  13.5 13.5 14.  14.\n",
      " 18.  18.  17.  15.  13.  13.  12.5 12.  14.5 11.  16.5 16.  16.  14.\n",
      " 13.  15.  19.5 13.5 14.  13.  19.5 14.  11.  13.5 16.5 16.  19.  21.\n",
      " 17.  16.5 14.5 16.  16.5 14.5 19.  15.5 15.  16.  16.  19.5 14.  13.5\n",
      " 18.5 19.  13.5 16.  16.  13.5 17.  14.  15.  14.5 17.5 16.9 17.7 13.\n",
      " 13.9 15.4 17.6 22.2 14.2 17.7 16.2 12.2 16.4 15.7 21.9 16.7 12.  14.\n",
      " 14.8 15.5 12.5 13.7 16.4 17.7 11.1 12.2 14.5 18.2 17.  16.4 14.5 13.5\n",
      " 14.4 18.6 15.5 12.8 18.2 15.4 17.2 16.7 15.1 13.4 13.7 14.2 14.5 16.7\n",
      " 14.9 13.6 15.8 16.6 18.2 18.2 15.4 13.2 14.9 15.  14.  14.4 20.1 24.8\n",
      " 13.2 19.2 16.  12.9 14.7 15.5 16.5 20.1 15.8 17.5 15.2 14.4 21.7 19.9\n",
      " 13.8 18.  11.4 15.1 17.  16.4 12.6 16.9 16.1 19.4 16.  16.2 14.2 14.4\n",
      " 14.8 20.4 19.6 13.8 19.  16.6 18.6 16.2 18.  20.5 18.2 14.7 14.5 16.9\n",
      " 15.7 16.4 14.5 13.9 17.3 24.6 18.6]\n"
     ]
    }
   ],
   "source": [
    "print(acceleration[::2]) #everyother element"
   ]
  },
  {
   "cell_type": "markdown",
   "metadata": {},
   "source": [
    "8.Show how to select the number `99` in the array below. "
   ]
  },
  {
   "cell_type": "code",
   "execution_count": 106,
   "metadata": {},
   "outputs": [
    {
     "name": "stdout",
     "output_type": "stream",
     "text": [
      "99\n"
     ]
    }
   ],
   "source": [
    "select_99 = np.array([[1,2,3],\n",
    "                      [4,5,99]])\n",
    "\n",
    "num_99 = select_99[1,2]\n",
    "print(num_99)"
   ]
  },
  {
   "cell_type": "markdown",
   "metadata": {},
   "source": [
    "9.Select the last element in each subarray (do this with one operation.)"
   ]
  },
  {
   "cell_type": "code",
   "execution_count": 46,
   "metadata": {},
   "outputs": [],
   "source": [
    "select_more = np.array([[1,2,3],\n",
    "                      [4,5,6],\n",
    "                      [7,8,9]])\n",
    "# returns array([3, 6, 9])"
   ]
  },
  {
   "cell_type": "code",
   "execution_count": 10,
   "metadata": {},
   "outputs": [
    {
     "name": "stdout",
     "output_type": "stream",
     "text": [
      "[3, 6, 9]\n"
     ]
    }
   ],
   "source": [
    "def Ext(select_more): \n",
    "    return [item[-1] for item in select_more]\n",
    "\n",
    "print(Ext(select_more))"
   ]
  },
  {
   "cell_type": "markdown",
   "metadata": {},
   "source": [
    "10.Use the built-in `np.lookfor()` function to search for `'log'`.\n",
    "\n",
    "Use the function you find and apply it to `mpg`."
   ]
  },
  {
   "cell_type": "code",
   "execution_count": 88,
   "metadata": {},
   "outputs": [
    {
     "name": "stdout",
     "output_type": "stream",
     "text": [
      "Search results for 'log'\n",
      "------------------------\n",
      "numpy.log\n",
      "    Natural logarithm, element-wise.\n",
      "numpy.log2\n",
      "    Base-2 logarithm of `x`.\n",
      "numpy.log10\n",
      "    Return the base 10 logarithm of the input array, element-wise.\n",
      "numpy.log1p\n",
      "    Return the natural logarithm of one plus the input array, element-wise.\n",
      "numpy.logspace\n",
      "    Return numbers spaced evenly on a log scale.\n",
      "numpy.logaddexp\n",
      "    Logarithm of the sum of exponentiations of the inputs.\n",
      "numpy.logaddexp2\n",
      "    Logarithm of the sum of exponentiations of the inputs in base-2.\n",
      "numpy.logical_or\n",
      "    Compute the truth value of x1 OR x2 element-wise.\n",
      "numpy.logical_and\n",
      "    Compute the truth value of x1 AND x2 element-wise.\n",
      "numpy.logical_not\n",
      "    Compute the truth value of NOT x element-wise.\n",
      "numpy.logical_xor\n",
      "    Compute the truth value of x1 XOR x2, element-wise.\n",
      "numpy.ma.log\n",
      "    Natural logarithm, element-wise.\n",
      "numpy.ma.log2\n",
      "    Base-2 logarithm of `x`.\n",
      "numpy.ma.log10\n",
      "    Return the base 10 logarithm of the input array, element-wise.\n",
      "numpy.recarray\n",
      "    Construct an ndarray that allows field access using attributes.\n",
      "numpy.geomspace\n",
      "    Return numbers spaced evenly on a log scale (a geometric progression).\n",
      "numpy.seterrcall\n",
      "    Set the floating-point error callback function or log object.\n",
      "numpy.ma.logical_or\n",
      "    Compute the truth value of x1 OR x2 element-wise.\n",
      "numpy.linalg.slogdet\n",
      "    Compute the sign and (natural) logarithm of the determinant of an array.\n",
      "numpy.ma.logical_and\n",
      "    Compute the truth value of x1 AND x2 element-wise.\n",
      "numpy.ma.logical_not\n",
      "    Compute the truth value of NOT x element-wise.\n",
      "numpy.ma.logical_xor\n",
      "    Compute the truth value of x1 XOR x2, element-wise.\n",
      "numpy.ma.mask_or\n",
      "    Combine two masks with the ``logical_or`` operator.\n",
      "numpy.distutils.log.good\n",
      "    If we log WARN messages, log this message as a 'nice' anti-warn\n",
      "numpy.random.Generator.logistic\n",
      "    Draw samples from a logistic distribution.\n",
      "numpy.random.Generator.lognormal\n",
      "    Draw samples from a log-normal distribution.\n",
      "numpy.random.Generator.logseries\n",
      "    Draw samples from a logarithmic series distribution.\n",
      "numpy.linalg._umath_linalg.slogdet\n",
      "    slogdet on the last two dimensions and broadcast on the rest.\n",
      "numpy.distutils.log.Log.good\n",
      "    If we log WARN messages, log this message as a 'nice' anti-warn\n",
      "numpy.random.RandomState.logistic\n",
      "    Draw samples from a logistic distribution.\n",
      "numpy.random.RandomState.lognormal\n",
      "    Draw samples from a log-normal distribution.\n",
      "numpy.random.RandomState.logseries\n",
      "    Draw samples from a logarithmic series distribution.\n",
      "numpy.all\n",
      "    Test whether all array elements along a given axis evaluate to True.\n",
      "numpy.any\n",
      "    Test whether any array element along a given axis evaluates to True.\n",
      "numpy.exp\n",
      "    Calculate the exponential of all elements in the input array.\n",
      "numpy.sort\n",
      "    Return a sorted copy of an array.\n",
      "numpy.expm1\n",
      "    Calculate ``exp(x) - 1`` for all elements in the array.\n",
      "numpy.isnan\n",
      "    Test element-wise for NaN and return result as a boolean array.\n",
      "numpy.MachAr\n",
      "    Diagnosing machine parameters.\n",
      "numpy.testing.suppress_warnings.record\n",
      "    Append a new recording filter or apply it if the state is entered.\n",
      "numpy.geterr\n",
      "    Get the current way of handling floating-point errors.\n",
      "numpy.kaiser\n",
      "    Return the Kaiser window.\n",
      "numpy.distutils.command.build.build\n",
      "    Abstract base class for defining command classes, the \"worker bees\"\n",
      "numpy.seterr\n",
      "    Set how floating-point errors are handled.\n",
      "numpy.distutils.command.sdist.sdist\n",
      "    Abstract base class for defining command classes, the \"worker bees\"\n",
      "numpy.hamming\n",
      "    Return the Hamming window.\n",
      "numpy.hanning\n",
      "    Return the Hanning window.\n",
      "numpy.bartlett\n",
      "    Return the Bartlett window.\n",
      "numpy.blackman\n",
      "    Return the Blackman window.\n",
      "numpy.errstate\n",
      "    errstate(**kwargs)\n",
      "numpy.isfinite\n",
      "    Test element-wise for finiteness (not infinity or not Not a Number).\n",
      "numpy.linspace\n",
      "    Return evenly spaced numbers over a specified interval.\n",
      "numpy.packbits\n",
      "    Packs the elements of a binary-valued array into bits in a uint8 array.\n",
      "numpy.distutils.command.config.config\n",
      "    Abstract base class for defining command classes, the \"worker bees\"\n",
      "numpy.geterrobj\n",
      "    geterrobj()\n",
      "numpy.seterrobj\n",
      "    seterrobj(errobj)\n",
      "numpy.bitwise_or\n",
      "    Compute the bit-wise OR of two arrays element-wise.\n",
      "numpy.geterrcall\n",
      "    Return the current callback function used on floating-point errors.\n",
      "numpy.distutils.command.install.install\n",
      "    Abstract base class for defining command classes, the \"worker bees\"\n",
      "numpy.bitwise_and\n",
      "    Compute the bit-wise AND of two arrays element-wise.\n",
      "numpy.bitwise_not\n",
      "    Compute bit-wise inversion, or bit-wise NOT, element-wise.\n",
      "numpy.bitwise_xor\n",
      "    Compute the bit-wise XOR of two arrays element-wise.\n",
      "numpy.ma.exp\n",
      "    Calculate the exponential of all elements in the input array.\n",
      "numpy.distutils.command.build_py.build_py\n",
      "    Abstract base class for defining command classes, the \"worker bees\"\n",
      "numpy.distutils.command.egg_info.egg_info\n",
      "    Abstract base class for defining command classes, the \"worker bees\"\n",
      "numpy.fft.fft2\n",
      "    Compute the 2-dimensional discrete Fourier Transform.\n",
      "numpy.fft.fftn\n",
      "    Compute the N-dimensional discrete Fourier Transform.\n",
      "numpy.fft.hfft\n",
      "    Compute the FFT of a signal that has Hermitian symmetry, i.e., a real\n",
      "numpy.fft.ifft2\n",
      "    Compute the 2-dimensional inverse discrete Fourier Transform.\n",
      "numpy.fft.ifftn\n",
      "    Compute the N-dimensional inverse discrete Fourier Transform.\n",
      "numpy.fft.ihfft\n",
      "    Compute the inverse FFT of a signal that has Hermitian symmetry.\n",
      "numpy.distutils.command.bdist_rpm.bdist_rpm\n",
      "    Abstract base class for defining command classes, the \"worker bees\"\n",
      "numpy.distutils.command.build_ext.build_ext\n",
      "    Abstract base class for defining command classes, the \"worker bees\"\n",
      "numpy.distutils.command.build_src.build_src\n",
      "    Abstract base class for defining command classes, the \"worker bees\"\n",
      "numpy.linalg.det\n",
      "    Compute the determinant of an array.\n",
      "numpy.matrix.any\n",
      "    Test whether any array element along a given axis evaluates to True.\n",
      "numpy.distutils.command.build_clib.build_clib\n",
      "    Abstract base class for defining command classes, the \"worker bees\"\n",
      "numpy.ma.bitwise_or\n",
      "    Compute the bit-wise OR of two arrays element-wise.\n",
      "numpy.histogram_bin_edges\n",
      "    Function to calculate only the edges of the bins used by the `histogram`\n",
      "numpy.ma.bitwise_and\n",
      "    Compute the bit-wise AND of two arrays element-wise.\n",
      "numpy.ma.bitwise_xor\n",
      "    Compute the bit-wise XOR of two arrays element-wise.\n",
      "numpy.distutils.command.install_clib.install_clib\n",
      "    Abstract base class for defining command classes, the \"worker bees\"\n",
      "numpy.distutils.command.install_data.install_data\n",
      "    Abstract base class for defining command classes, the \"worker bees\"\n",
      "numpy.distutils.command.build_scripts.build_scripts\n",
      "    Abstract base class for defining command classes, the \"worker bees\"\n",
      "numpy.distutils.fcompiler.FCompiler.add_link_object\n",
      "    Add 'object' to the list of object files (or analogues, such as\n",
      "numpy.distutils.ccompiler_opt.CCompilerOpt._dist_str\n",
      "    Return a string to print by log and errors.\n",
      "numpy.distutils.fcompiler.FCompiler.set_link_objects\n",
      "    Set the list of object files (or analogues) to be included in\n",
      "numpy.random.RandomState\n",
      "    Container for the slow Mersenne Twister pseudo-random number generator.\n",
      "numpy.random.SeedSequence\n",
      "    SeedSequence mixes sources of entropy in a reproducible way to set the\n",
      "numpy.distutils.command.install_headers.install_headers\n",
      "    Abstract base class for defining command classes, the \"worker bees\"\n",
      "numpy.distutils.command.egg_info.egg_info.write_file\n",
      "    Write `data` to `filename` (if not a dry run) after announcing it\n",
      "numpy.testing.suppress_warnings\n",
      "    Context manager and decorator doing much the same as\n",
      "numpy.distutils.command.bdist_rpm.bdist_rpm._format_changelog\n",
      "    Format the changelog correctly and convert it to a list of strings\n",
      "numpy.random.Generator.wald\n",
      "    Draw samples from a Wald, or inverse Gaussian, distribution.\n",
      "numpy.random.Generator.power\n",
      "    Draws samples in [0, 1] from a power distribution with positive\n",
      "numpy.random.Generator.gumbel\n",
      "    Draw samples from a Gumbel distribution.\n",
      "numpy.random.RandomState.wald\n",
      "    Draw samples from a Wald, or inverse Gaussian, distribution.\n",
      "numpy.random.RandomState.power\n",
      "    Draws samples in [0, 1] from a power distribution with positive\n",
      "numpy.random.Generator.vonmises\n",
      "    Draw samples from a von Mises distribution.\n",
      "numpy.random.RandomState.gumbel\n",
      "    Draw samples from a Gumbel distribution.\n",
      "numpy.random.RandomState.vonmises\n",
      "    Draw samples from a von Mises distribution.\n",
      "numpy.core._multiarray_umath.packbits\n",
      "    Packs the elements of a binary-valued array into bits in a uint8 array.\n",
      "numpy.random.Generator.exponential\n",
      "    Draw samples from an exponential distribution.\n",
      "numpy.distutils.numpy_distribution.NumpyDistribution.finalize_options\n",
      "    Set final values for all the options on the Distribution\n",
      "numpy.random.RandomState.exponential\n",
      "    Draw samples from an exponential distribution.\n",
      "numpy.distutils.ccompiler.CCompiler_spawn\n",
      "    Execute a command in a sub-process.\n",
      "numpy.random.Generator.multivariate_normal\n",
      "    multivariate_normal(mean, cov, size=None, check_valid='warn',\n",
      "numpy.random.RandomState.multivariate_normal\n",
      "    Draw random samples from a multivariate normal distribution.\n",
      "numpy.distutils.tests.test_ccompiler_opt_conf.TestConfFeatures.assertLogs\n",
      "    Fail unless a log message of level *level* or higher is emitted\n",
      "numpy.core._multiarray_umath.normalize_axis_index\n",
      "    Normalizes an axis index, `axis`, such that is a valid positive index into\n",
      "numpy.distutils.ccompiler.CCompiler_show_customization\n",
      "    Print the compiler customizations to stdout."
     ]
    }
   ],
   "source": [
    "np.lookfor('log') #numpy.log was found so I ran np.log since numpy was imported as np\n"
   ]
  },
  {
   "cell_type": "code",
   "execution_count": 56,
   "metadata": {},
   "outputs": [
    {
     "name": "stderr",
     "output_type": "stream",
     "text": [
      "C:\\Users\\chdar\\AppData\\Local\\Temp/ipykernel_7176/67066281.py:1: RuntimeWarning: divide by zero encountered in log\n",
      "  np.log(mpg)\n"
     ]
    },
    {
     "data": {
      "text/plain": [
       "array([2.89037176, 2.7080502 , 2.89037176, 2.77258872, 2.83321334,\n",
       "       2.7080502 , 2.63905733, 2.63905733, 2.63905733, 2.7080502 ,\n",
       "             -inf,       -inf,       -inf,       -inf,       -inf,\n",
       "       2.7080502 , 2.63905733,       -inf, 2.7080502 , 2.63905733,\n",
       "       3.17805383, 3.09104245, 2.89037176, 3.04452244, 3.29583687,\n",
       "       3.25809654, 3.21887582, 3.17805383, 3.21887582, 3.25809654,\n",
       "       3.04452244, 2.30258509, 2.30258509, 2.39789527, 2.19722458,\n",
       "       3.29583687, 3.33220451, 3.21887582, 3.21887582,       -inf,\n",
       "       2.94443898, 2.77258872, 2.83321334, 2.94443898, 2.89037176,\n",
       "       2.63905733, 2.63905733, 2.63905733, 2.63905733, 2.48490665,\n",
       "       2.56494936, 2.56494936, 2.89037176, 3.09104245, 2.94443898,\n",
       "       2.89037176, 3.13549422, 3.33220451, 3.40119738, 3.40119738,\n",
       "       3.4339872 , 3.55534806, 3.29583687, 3.25809654, 3.17805383,\n",
       "       3.21887582, 3.13549422, 2.99573227, 3.04452244, 2.56494936,\n",
       "       2.63905733, 2.7080502 , 2.63905733, 2.83321334, 2.39789527,\n",
       "       2.56494936, 2.48490665, 2.56494936, 2.94443898, 2.7080502 ,\n",
       "       2.56494936, 2.56494936, 2.63905733, 2.89037176, 3.09104245,\n",
       "       3.04452244, 3.25809654, 3.09104245, 3.33220451, 3.13549422,\n",
       "       3.33220451, 3.29583687, 2.56494936, 2.63905733, 2.56494936,\n",
       "       2.63905733, 2.7080502 , 2.48490665, 2.56494936, 2.56494936,\n",
       "       2.63905733, 2.56494936, 2.48490665, 2.56494936, 2.89037176,\n",
       "       2.77258872, 2.89037176, 2.89037176, 3.13549422, 3.25809654,\n",
       "       2.39789527, 2.48490665, 2.56494936, 2.48490665, 2.89037176,\n",
       "       2.99573227, 3.04452244, 3.09104245, 2.89037176, 2.94443898,\n",
       "       3.04452244, 3.25809654, 2.7080502 , 2.77258872, 3.36729583,\n",
       "       3.17805383, 2.99573227, 2.94443898, 2.7080502 , 3.17805383,\n",
       "       2.99573227, 2.39789527, 2.99573227, 3.04452244, 2.94443898,\n",
       "       2.7080502 , 3.4339872 , 3.25809654, 3.4657359 , 3.21887582,\n",
       "       2.77258872, 2.77258872, 2.89037176, 2.77258872, 2.56494936,\n",
       "       2.63905733, 2.63905733, 2.63905733, 3.36729583, 3.25809654,\n",
       "       3.25809654, 3.4339872 , 3.4657359 , 3.33220451, 3.17805383,\n",
       "       3.25809654, 3.17805383, 3.25809654, 3.4339872 , 2.94443898,\n",
       "       2.89037176, 2.7080502 , 2.7080502 , 2.77258872, 2.7080502 ,\n",
       "       2.77258872, 2.63905733, 2.83321334, 2.77258872, 2.7080502 ,\n",
       "       2.89037176, 3.04452244, 2.99573227, 2.56494936, 3.36729583,\n",
       "       3.13549422, 2.99573227, 3.13549422, 3.17805383, 3.21887582,\n",
       "       3.17805383, 2.89037176, 3.36729583, 2.94443898, 3.13549422,\n",
       "       3.13549422, 3.09104245, 3.21887582, 3.49650756, 3.33220451,\n",
       "       3.21887582, 3.21887582, 3.25809654, 3.29583687, 2.86220088,\n",
       "       2.77258872, 2.74084002, 2.67414865, 3.09104245, 3.09104245,\n",
       "       3.17805383, 3.11351531, 3.36729583, 3.19867312, 3.36729583,\n",
       "       3.49650756, 2.99573227, 2.89037176, 2.91777073, 2.86220088,\n",
       "       3.38439026, 3.4657359 , 3.33220451, 3.27714473, 2.99573227,\n",
       "       2.56494936, 2.94443898, 2.94443898, 2.80336038, 2.80336038,\n",
       "       2.56494936, 2.56494936, 2.56494936, 3.44998755, 3.40119738,\n",
       "       3.58351894, 3.23867845, 3.51154544, 2.86220088, 2.83321334,\n",
       "       2.74084002, 2.7080502 , 2.86220088, 3.02042489, 2.94443898,\n",
       "       2.91777073, 2.77258872, 2.74084002, 2.74084002, 2.77258872,\n",
       "       3.36729583, 3.19867312, 3.25809654, 3.23867845, 3.41772668,\n",
       "       3.51154544, 3.40119738, 3.41772668, 3.09104245, 3.06805294,\n",
       "       3.06805294, 3.763523  , 3.58629287, 3.49042852, 3.67376582,\n",
       "       3.58629287, 2.99071973, 2.96527307, 3.0056826 , 2.95491028,\n",
       "       3.02042489, 3.0056826 , 3.22286785, 3.02042489, 2.96527307,\n",
       "       3.02529108, 3.03495299, 2.92316158, 2.89591194, 2.95491028,\n",
       "       2.87356464, 2.89591194, 2.86220088, 3.40119738, 3.314186  ,\n",
       "       3.30321697, 3.43075618, 3.04927304, 3.14415228, 3.16968558,\n",
       "       3.17387846, 3.01062089, 2.83321334, 3.07269331, 2.78501124,\n",
       "       3.44998755, 3.38439026, 3.06805294, 2.98568194, 3.10458668,\n",
       "       3.0056826 , 3.02529108, 2.83321334, 2.8678989 , 2.80336038,\n",
       "       2.90142159, 2.82731362, 2.74084002, 2.95491028, 2.91777073,\n",
       "       3.46260601, 3.52929738, 3.57515069, 3.31054301, 3.23474917,\n",
       "       3.13549422, 3.30321697, 3.17387846, 3.53222564, 3.54095932,\n",
       "       3.45946629, 3.61899333, 3.34638915, 3.36037539, 3.28840189,\n",
       "       3.51154544, 3.72569343, 3.64021428, 3.46885603, 3.61630876,\n",
       "       3.33220451, 3.27336401, 3.19047635, 2.94968834, 3.53514535,\n",
       "       3.39450839, 3.4436181 , 3.61091791, 3.47196645, 3.84160054,\n",
       "       3.32862669, 3.70868208, 3.79098468, 3.77045944, 3.59456877,\n",
       "       3.40119738, 3.79773386, 3.71113006, 3.5204608 , 3.39450839,\n",
       "       3.48737508, 3.16547505, 3.55534806, 3.16124671, 3.47815842,\n",
       "       3.30321697, 3.28091122, 3.25037449, 3.15700042, 3.40119738,\n",
       "       3.66612247, 3.66356165, 3.55820113, 3.47506723, 3.61091791,\n",
       "       3.62966009, 3.52929738, 3.54673969, 3.53805656, 3.39785848,\n",
       "       3.49650756, 3.54095932, 3.51749784, 3.47815842, 3.49347266,\n",
       "       3.45315712, 3.33576958,       -inf, 3.42426265, 3.23474917,\n",
       "       3.18635263, 3.10906096, 3.28091122, 3.0056826 , 2.8678989 ,\n",
       "       3.33220451, 3.29583687, 3.52636052, 3.4339872 , 3.36729583,\n",
       "       3.29583687, 3.17805383, 3.13549422, 3.58351894, 3.61091791,\n",
       "       3.4339872 , 3.63758616, 3.58351894, 3.58351894, 3.58351894,\n",
       "       3.52636052, 3.63758616, 3.4657359 , 3.63758616, 3.21887582,\n",
       "       3.63758616, 3.25809654, 3.09104245, 3.4657359 , 3.58351894,\n",
       "       3.29583687, 3.29583687, 3.78418963, 3.4657359 , 3.33220451,\n",
       "       3.4339872 ])"
      ]
     },
     "execution_count": 56,
     "metadata": {},
     "output_type": "execute_result"
    }
   ],
   "source": [
    "np.log(mpg)"
   ]
  },
  {
   "cell_type": "markdown",
   "metadata": {},
   "source": [
    "11.You your google skills to find the unique items in `origin`. (This may not have been covered in the readings.)"
   ]
  },
  {
   "cell_type": "code",
   "execution_count": 26,
   "metadata": {},
   "outputs": [
    {
     "data": {
      "text/plain": [
       "array([0, 5, 6])"
      ]
     },
     "execution_count": 26,
     "metadata": {},
     "output_type": "execute_result"
    }
   ],
   "source": [
    "#type(origin)\n",
    "origin_test = [0,6,5,0,6,5]\n"
   ]
  },
  {
   "cell_type": "code",
   "execution_count": 71,
   "metadata": {},
   "outputs": [
    {
     "data": {
      "text/plain": [
       "array(['Europe', 'Japan', 'US'], dtype=object)"
      ]
     },
     "execution_count": 71,
     "metadata": {},
     "output_type": "execute_result"
    }
   ],
   "source": [
    "#np.unique gives the sorted elements of an array\n",
    "np.unique(origin) "
   ]
  },
  {
   "cell_type": "markdown",
   "metadata": {},
   "source": [
    "12.\n",
    "- Create a 2D array and print its shape as well as ndim. (Any shape is fine)\n",
    "\n",
    "- Create a 3D array and print its shape as well as ndim.\n",
    "\n",
    "- Create a 4D array and print its shape as well as ndim. *It's hard to visualize 4-Dimensions but numpy can do it with ease!*"
   ]
  },
  {
   "cell_type": "code",
   "execution_count": 125,
   "metadata": {},
   "outputs": [
    {
     "name": "stdout",
     "output_type": "stream",
     "text": [
      "[0 1 2]\n"
     ]
    },
    {
     "data": {
      "text/plain": [
       "2"
      ]
     },
     "execution_count": 125,
     "metadata": {},
     "output_type": "execute_result"
    }
   ],
   "source": [
    "\n",
    "#an array can be created through np.arrange or by using np.array command\n",
    "\n",
    "#Example of 1D array with np.arrange\n",
    "arrx = np.arange(3)\n",
    "print(arrx)\n",
    "arrx.ndim\n",
    "\n",
    "#Question arrays\n",
    "arr2 = np.array([[1,2,], [3,4]])\n",
    "arr3 = np.array([[[1,2,3], [3,4,5], [6,7,8]]])\n",
    "arr4 = np.array([[[[1,2,3], [3,4,5], [6,7,8]]]])\n",
    "\n",
    "#Dimension of arr2\n",
    "arr2.ndim"
   ]
  },
  {
   "cell_type": "code",
   "execution_count": 54,
   "metadata": {},
   "outputs": [
    {
     "data": {
      "text/plain": [
       "(2, 2)"
      ]
     },
     "execution_count": 54,
     "metadata": {},
     "output_type": "execute_result"
    }
   ],
   "source": [
    "arr2.shape"
   ]
  },
  {
   "cell_type": "code",
   "execution_count": 51,
   "metadata": {},
   "outputs": [
    {
     "data": {
      "text/plain": [
       "3"
      ]
     },
     "execution_count": 51,
     "metadata": {},
     "output_type": "execute_result"
    }
   ],
   "source": [
    "arr3.ndim"
   ]
  },
  {
   "cell_type": "code",
   "execution_count": 52,
   "metadata": {},
   "outputs": [
    {
     "data": {
      "text/plain": [
       "(1, 3, 3)"
      ]
     },
     "execution_count": 52,
     "metadata": {},
     "output_type": "execute_result"
    }
   ],
   "source": [
    "arr3.shape"
   ]
  },
  {
   "cell_type": "code",
   "execution_count": 131,
   "metadata": {},
   "outputs": [
    {
     "data": {
      "text/plain": [
       "((1, 1, 3, 3), 4)"
      ]
     },
     "execution_count": 131,
     "metadata": {},
     "output_type": "execute_result"
    }
   ],
   "source": [
    "(arr4.shape, arr4.ndim)"
   ]
  },
  {
   "cell_type": "markdown",
   "metadata": {},
   "source": [
    "13.Use boolean indexing to create an array of `True/False` using `origin` and the value 'US'."
   ]
  },
  {
   "cell_type": "code",
   "execution_count": 113,
   "metadata": {
    "scrolled": true
   },
   "outputs": [
    {
     "data": {
      "text/plain": [
       "array([ True,  True,  True,  True,  True,  True,  True,  True,  True,\n",
       "        True, False,  True,  True,  True,  True,  True,  True,  True,\n",
       "        True,  True, False,  True,  True,  True, False, False, False,\n",
       "       False, False, False,  True,  True,  True,  True,  True, False,\n",
       "        True, False,  True, False,  True,  True,  True,  True,  True,\n",
       "        True,  True,  True,  True,  True,  True,  True,  True,  True,\n",
       "        True,  True,  True, False, False, False, False, False, False,\n",
       "        True, False,  True, False,  True,  True,  True,  True,  True,\n",
       "        True,  True,  True,  True,  True,  True, False,  True,  True,\n",
       "        True,  True, False, False, False, False,  True, False, False,\n",
       "        True, False,  True,  True,  True,  True,  True,  True,  True,\n",
       "        True,  True,  True,  True,  True,  True,  True,  True,  True,\n",
       "        True, False,  True,  True,  True,  True,  True, False,  True,\n",
       "       False, False,  True,  True, False,  True,  True, False, False,\n",
       "       False, False,  True, False, False,  True,  True,  True,  True,\n",
       "        True, False,  True, False,  True,  True,  True,  True,  True,\n",
       "        True,  True,  True,  True, False, False, False, False, False,\n",
       "        True, False, False, False, False, False,  True,  True,  True,\n",
       "        True,  True,  True,  True,  True,  True,  True,  True,  True,\n",
       "        True,  True,  True, False,  True,  True,  True, False, False,\n",
       "       False,  True, False,  True, False, False, False, False, False,\n",
       "       False, False,  True,  True, False,  True,  True,  True,  True,\n",
       "        True,  True,  True,  True,  True,  True, False, False,  True,\n",
       "        True,  True,  True, False, False, False,  True, False,  True,\n",
       "       False, False, False,  True,  True,  True,  True, False,  True,\n",
       "       False,  True, False,  True,  True,  True,  True,  True,  True,\n",
       "        True,  True,  True,  True,  True,  True, False,  True, False,\n",
       "        True,  True,  True, False, False, False, False, False, False,\n",
       "        True, False, False, False,  True,  True,  True,  True,  True,\n",
       "        True,  True,  True,  True,  True,  True,  True,  True,  True,\n",
       "        True,  True,  True,  True, False, False,  True, False,  True,\n",
       "        True, False, False, False, False, False, False, False,  True,\n",
       "        True,  True,  True,  True,  True,  True,  True,  True,  True,\n",
       "        True,  True,  True, False, False,  True,  True, False,  True,\n",
       "       False,  True,  True,  True, False, False,  True,  True,  True,\n",
       "        True, False, False,  True, False,  True,  True,  True,  True,\n",
       "       False, False, False, False, False, False,  True, False, False,\n",
       "       False, False, False, False, False, False, False, False, False,\n",
       "       False,  True, False,  True,  True,  True,  True,  True, False,\n",
       "        True, False, False, False, False, False,  True,  True,  True,\n",
       "       False, False, False, False, False, False, False, False, False,\n",
       "       False, False,  True,  True,  True,  True,  True,  True,  True,\n",
       "        True,  True,  True,  True,  True, False, False, False,  True,\n",
       "        True, False, False, False, False, False, False,  True,  True,\n",
       "        True,  True, False,  True,  True,  True, False,  True,  True,\n",
       "        True])"
      ]
     },
     "execution_count": 113,
     "metadata": {},
     "output_type": "execute_result"
    }
   ],
   "source": [
    "origin == 'US'"
   ]
  },
  {
   "cell_type": "markdown",
   "metadata": {},
   "source": [
    "14.Apply your index (from above) to the `car` array. You should now only see cars that are of US origin. "
   ]
  },
  {
   "cell_type": "code",
   "execution_count": 65,
   "metadata": {},
   "outputs": [
    {
     "data": {
      "text/plain": [
       "array(['Chevrolet Chevelle Malibu', 'Buick Skylark 320',\n",
       "       'Plymouth Satellite', 'AMC Rebel SST', 'Ford Torino',\n",
       "       'Ford Galaxie 500', 'Chevrolet Impala', 'Plymouth Fury iii',\n",
       "       'Pontiac Catalina', 'AMC Ambassador DPL',\n",
       "       'Chevrolet Chevelle Concours (sw)', 'Ford Torino (sw)',\n",
       "       'Plymouth Satellite (sw)', 'AMC Rebel SST (sw)',\n",
       "       'Dodge Challenger SE', \"Plymouth 'Cuda 340\",\n",
       "       'Ford Mustang Boss 302', 'Chevrolet Monte Carlo',\n",
       "       'Buick Estate Wagon (sw)', 'Plymouth Duster', 'AMC Hornet',\n",
       "       'Ford Maverick', 'AMC Gremlin', 'Ford F250', 'Chevy C20',\n",
       "       'Dodge D200', 'Hi 1200D', 'Chevrolet Vega 2300', 'Ford Pinto',\n",
       "       'AMC Gremlin', 'Plymouth Satellite Custom',\n",
       "       'Chevrolet Chevelle Malibu', 'Ford Torino 500', 'AMC Matador',\n",
       "       'Chevrolet Impala', 'Pontiac Catalina Brougham',\n",
       "       'Ford Galaxie 500', 'Plymouth Fury iii', 'Dodge Monaco (sw)',\n",
       "       'Ford Country Squire (sw)', 'Pontiac Safari (sw)',\n",
       "       'AMC Hornet Sportabout (sw)', 'Chevrolet Vega (sw)',\n",
       "       'Pontiac Firebird', 'Ford Mustang', 'Mercury Capri 2000',\n",
       "       'Plymouth Cricket', 'Dodge Colt Hardtop', 'Chevrolet Vega',\n",
       "       'Ford Pinto Runabout', 'Chevrolet Impala', 'Pontiac Catalina',\n",
       "       'Plymouth Fury III', 'Ford Galaxie 500', 'AMC Ambassador SST',\n",
       "       'Mercury Marquis', 'Buick LeSabre Custom',\n",
       "       'Oldsmobile Delta 88 Royale', 'Chrysler Newport Royal',\n",
       "       'AMC Matador (sw)', 'Chevrolet Chevelle Concours (sw)',\n",
       "       'Ford Gran Torino (sw)', 'Plymouth Satellite Custom (sw)',\n",
       "       'Ford Pinto (sw)', 'Dodge Colt (sw)', 'Buick Century 350',\n",
       "       'AMC Matador', 'Chevrolet Malibu', 'Ford Gran Torino',\n",
       "       'Dodge Coronet Custom', 'Mercury Marquis Brougham',\n",
       "       'Chevrolet Caprice Classic', 'Ford LTD',\n",
       "       'Plymouth Fury Gran Sedan', 'Chrysler New Yorker Brougham',\n",
       "       'Buick Electra 225 Custom', 'AMC Ambassador Brougham',\n",
       "       'Plymouth Valiant', 'Chevrolet Nova Custom', 'AMC Hornet',\n",
       "       'Ford Maverick', 'Plymouth Duster', 'Chevrolet Impala',\n",
       "       'Ford Country', 'Plymouth Custom Suburb',\n",
       "       'Oldsmobile Vista Cruiser', 'AMC Gremlin', 'Chevrolet Vega',\n",
       "       'Ford Pinto', 'Mercury Capri v6', 'Chevrolet Monte Carlo S',\n",
       "       'Pontiac Grand Prix', 'Dodge Dart Custom', 'Oldsmobile Omega',\n",
       "       'Plymouth Duster', 'Ford Maverick', 'AMC Hornet', 'Chevrolet Nova',\n",
       "       'Ford Pinto', 'Chevrolet Vega',\n",
       "       'Chevrolet Chevelle Malibu Classic', 'AMC Matador',\n",
       "       'Plymouth Satellite Sebring', 'Ford Gran Torino',\n",
       "       'Buick Century Luxus (sw)', 'Dodge Coronet Custom (sw)',\n",
       "       'Ford Gran Torino (sw)', 'AMC Matador (sw)', 'Dodge Colt',\n",
       "       'Plymouth Valiant Custom', 'Chevrolet Nova', 'Mercury Monarch',\n",
       "       'Ford Maverick', 'Pontiac Catalina', 'Chevrolet Bel Air',\n",
       "       'Plymouth Grand Fury', 'Ford LTD', 'Buick Century',\n",
       "       'Chevrolete Chevelle Malibu', 'AMC Matador', 'Plymouth Fury',\n",
       "       'Buick Skyhawk', 'Chevrolet Monza 2+2', 'Ford Mustang II',\n",
       "       'Ford Pinto', 'AMC Gremlin', 'Pontiac Astro', 'Ford Pinto',\n",
       "       'AMC Pacer', 'Capri ii', 'Dodge Colt',\n",
       "       'Chevrolet Chevelle Malibu Classic', 'Dodge Coronet Brougham',\n",
       "       'AMC Matador', 'Ford Gran Torino', 'Plymouth Valiant',\n",
       "       'Chevrolet Nova', 'Ford Maverick', 'AMC Hornet',\n",
       "       'Chevrolet Chevette', 'Chevrolet Woody', 'Dodge Aspen SE',\n",
       "       'Ford Grenada ghia', 'Pontiac Ventura SJ', 'AMC Pacer d/l',\n",
       "       'Ford Pinto', 'Plymouth Volare Premier v8', 'Cadillac Seville',\n",
       "       'Chevrolet C10', 'Ford F108', 'Dodge D100',\n",
       "       'Buick Opel Isuzu Deluxe', 'Plymouth Arrow GS',\n",
       "       'Chevrolet Caprice Classic', 'Oldsmobile Cutlass Supreme',\n",
       "       'Dodge Monaco Brougham', 'Mercury Cougar Brougham',\n",
       "       'Chevrolet Concours', 'Buick Skylark', 'Plymouth Volare Custom',\n",
       "       'Ford Grenada', 'Pontiac Grand Prix LJ',\n",
       "       'Chevrolet Monte Carlo Landau', 'Chrysler Cordoba',\n",
       "       'Ford Thunderbird', 'Pontiac Sunbird Coupe', 'Ford Mustang II 2+2',\n",
       "       'Chevrolet Chevette', 'Dodge Colt m/m', 'Ford Fiesta',\n",
       "       'Oldsmobile Cutlass Salon Brougham', 'Dodge Diplomat',\n",
       "       'Mercury Monarch ghia', 'Pontiac Phoenix LJ', 'Chevrolet Malibu',\n",
       "       'Ford Fairmont (auto)', 'Ford Fairmont (man)', 'Plymouth Volare',\n",
       "       'AMC Concord', 'Buick Century Special', 'Mercury Zephyr',\n",
       "       'Dodge Aspen', 'AMC Concord d/l', 'Chevrolet Monte Carlo Landau',\n",
       "       'Buick Regal Sport Coupe (turbo)', 'Ford Futura',\n",
       "       'Dodge Magnum XE', 'Chevrolet Chevette', 'Dodge Omni',\n",
       "       'Plymouth Sapporo', 'Oldsmobile Starfire SX', 'Pontiac Lemans V6',\n",
       "       'Mercury Zephyr 6', 'Ford Fairmont 4', 'AMC Concord DL 6',\n",
       "       'Dodge Aspen 6', 'Chevrolet Caprice Classic', 'Ford LTD Landau',\n",
       "       'Mercury Grand Marquis', 'Dodge St. Regis',\n",
       "       'Buick Estate Wagon (sw)', 'Ford Country Squire (sw)',\n",
       "       'Chevrolet Malibu Classic (sw)',\n",
       "       'Chrysler Lebaron Town @ Country (sw)',\n",
       "       'Dodge Colt Hatchback Custom', 'AMC Spirit DL',\n",
       "       'Cadillac Eldorado', 'Oldsmobile Cutlass Salon Brougham',\n",
       "       'Plymouth Horizon', 'Plymouth Horizon TC3',\n",
       "       'Buick Skylark Limited', 'Chevrolet Citation',\n",
       "       'Oldsmobile Omega Brougham', 'Pontiac Phoenix',\n",
       "       'Chevrolet Chevette', 'Chevrolet Citation', 'Ford Fairmont',\n",
       "       'AMC Concord', 'Dodge Aspen', 'Dodge Colt', 'Ford Mustang Cobra',\n",
       "       'Plymouth Reliant', 'Buick Skylark', 'Dodge Aries Wagon (sw)',\n",
       "       'Chevrolet Citation', 'Plymouth Reliant', 'Plymouth Champ',\n",
       "       'Plymouth Horizon 4', 'Ford Escort 4W', 'Ford Escort 2H',\n",
       "       'Buick Century', 'Oldsmobile Cutlass LS', 'Ford Grenada gl',\n",
       "       'Chrysler Lebaron Salon', 'Chevrolet Cavalier',\n",
       "       'Chevrolet Cavalier Wagon', 'Chevrolet Cavalier 2-door',\n",
       "       'Pontiac J2000 SE Hatchback', 'Dodge Aries SE', 'Pontiac Phoenix',\n",
       "       'Ford Fairmont Futura', 'AMC Concord DL', 'Plymouth Horizon Miser',\n",
       "       'Mercury Lynx l', 'Buick Century Limited',\n",
       "       'Oldsmobile Cutlass Ciera (diesel)', 'Chrysler Lebaron Medallion',\n",
       "       'Ford Grenada l', 'Dodge Charger 2.2', 'Chevrolet Camaro',\n",
       "       'Ford Mustang GL', 'Dodge Rampage', 'Ford Ranger', 'Chevy S-10'],\n",
       "      dtype=object)"
      ]
     },
     "execution_count": 65,
     "metadata": {},
     "output_type": "execute_result"
    }
   ],
   "source": [
    "#index of US cars\n",
    "car[origin=='US']"
   ]
  },
  {
   "cell_type": "markdown",
   "metadata": {},
   "source": [
    "15.Why might you prefer an `np.array()` over a Python `list`? And when is a Python `list` preferred? "
   ]
  },
  {
   "cell_type": "code",
   "execution_count": 34,
   "metadata": {},
   "outputs": [],
   "source": [
    "# np.array consumes less memory and has a better / faster runtime.  They also includes built in algebra functions \n",
    "# lists might be preferred when there are multiple element types. Lists can also be resized. "
   ]
  },
  {
   "cell_type": "markdown",
   "metadata": {},
   "source": [
    "16.What is an identity matrix? \n",
    "Create an identiy matrix of size 5 using an np method. "
   ]
  },
  {
   "cell_type": "code",
   "execution_count": 13,
   "metadata": {},
   "outputs": [
    {
     "name": "stdout",
     "output_type": "stream",
     "text": [
      "[[1. 0. 0. 0. 0.]\n",
      " [0. 1. 0. 0. 0.]\n",
      " [0. 0. 1. 0. 0.]\n",
      " [0. 0. 0. 1. 0.]\n",
      " [0. 0. 0. 0. 1.]]\n"
     ]
    }
   ],
   "source": [
    "# an identity matrix is a square matrix with the main diagonal consisting of ones\n",
    "\n",
    "x = np.identity(5)\n",
    "print(x)"
   ]
  },
  {
   "cell_type": "markdown",
   "metadata": {},
   "source": [
    "17.Transpose the following array. "
   ]
  },
  {
   "cell_type": "code",
   "execution_count": 18,
   "metadata": {},
   "outputs": [
    {
     "data": {
      "text/plain": [
       "array([[1, 4, 7],\n",
       "       [2, 5, 8],\n",
       "       [3, 6, 9]])"
      ]
     },
     "execution_count": 18,
     "metadata": {},
     "output_type": "execute_result"
    }
   ],
   "source": [
    "transpose_me = np.array([[1,2,3],\n",
    "                      [4,5,6],\n",
    "                      [7,8,9]])\n",
    "\n",
    "\n",
    "transpose_me.transpose()"
   ]
  },
  {
   "cell_type": "markdown",
   "metadata": {},
   "source": [
    "**The remaining questions are OPTIONAL**: The readings did not address all of these so you may have to use some \"Google-Fu\". "
   ]
  },
  {
   "cell_type": "markdown",
   "metadata": {},
   "source": [
    "1.Why does this multiplication operation fail? "
   ]
  },
  {
   "cell_type": "code",
   "execution_count": 32,
   "metadata": {},
   "outputs": [],
   "source": [
    "arr1 = np.array([[1,2,3],\n",
    "                      [4,5,6],\n",
    "                      [7,8,9]])\n",
    "arr2 = np.array([[1,2,3],\n",
    "                      [4,5,6]])\n",
    "\n",
    "arr1 * arr2"
   ]
  },
  {
   "cell_type": "code",
   "execution_count": 132,
   "metadata": {},
   "outputs": [
    {
     "data": {
      "text/plain": [
       "array([[ 1,  4,  9],\n",
       "       [16, 25, 36]])"
      ]
     },
     "execution_count": 132,
     "metadata": {},
     "output_type": "execute_result"
    }
   ],
   "source": [
    "# This operation fails because the matrices differ in configurations (3,2) and (3,3) \n",
    "\n",
    "# This works if you make them matching configurations\n",
    "arr1 = np.array([[1,2,3],\n",
    "                      [4,5,6]])\n",
    "\n",
    "arr2 = np.array([[1,2,3],\n",
    "                      [4,5,6]])\n",
    "#works when aligned\n",
    "arr1 * arr2"
   ]
  },
  {
   "cell_type": "markdown",
   "metadata": {},
   "source": [
    "Use numpy to answer the following questions. "
   ]
  },
  {
   "cell_type": "markdown",
   "metadata": {},
   "source": [
    "2.What is the average horsepower for `Europe` cars? (Hint: create boolean index of 'US' apply it to horsepower and perform the calculation.)"
   ]
  },
  {
   "cell_type": "code",
   "execution_count": 136,
   "metadata": {},
   "outputs": [
    {
     "data": {
      "text/plain": [
       "78.78082191780823"
      ]
     },
     "execution_count": 136,
     "metadata": {},
     "output_type": "execute_result"
    }
   ],
   "source": [
    "np.average(horsepower[origin=='Europe'])"
   ]
  },
  {
   "cell_type": "markdown",
   "metadata": {},
   "source": [
    "3.On average are Japanse cars more fuel efficient than US cars? "
   ]
  },
  {
   "cell_type": "code",
   "execution_count": 130,
   "metadata": {},
   "outputs": [
    {
     "data": {
      "text/plain": [
       "(30.450632911392404, 19.688188976377955)"
      ]
     },
     "execution_count": 130,
     "metadata": {},
     "output_type": "execute_result"
    }
   ],
   "source": [
    "(np.average(mpg[origin =='Japan']),np.average(mpg[origin =='US'])) #Japanese cars are more fuel efficient"
   ]
  },
  {
   "cell_type": "markdown",
   "metadata": {},
   "source": [
    "4.What is the correlation coefficient of `mpg` and `weight`? What is a correlaton coefficient?"
   ]
  },
  {
   "cell_type": "code",
   "execution_count": 126,
   "metadata": {},
   "outputs": [
    {
     "data": {
      "text/plain": [
       "array([[ 1.        , -0.78750994],\n",
       "       [-0.78750994,  1.        ]])"
      ]
     },
     "execution_count": 126,
     "metadata": {},
     "output_type": "execute_result"
    }
   ],
   "source": [
    "# correlation coefficient quantifies how a variable or dataset moves in relation to another"
   ]
  },
  {
   "cell_type": "markdown",
   "metadata": {},
   "source": [
    "# The Unix Shell\n",
    "\n",
    " #a shell reads and runs commands - at the command line prompt\n",
    " #There are two ways to create files; through a nano editor or a touch command \n",
    " #>> is used to append text/data\n"
   ]
  },
  {
   "cell_type": "markdown",
   "metadata": {},
   "source": []
  }
 ],
 "metadata": {
  "kernelspec": {
   "display_name": "Python 3 (ipykernel)",
   "language": "python",
   "name": "python3"
  },
  "language_info": {
   "codemirror_mode": {
    "name": "ipython",
    "version": 3
   },
   "file_extension": ".py",
   "mimetype": "text/x-python",
   "name": "python",
   "nbconvert_exporter": "python",
   "pygments_lexer": "ipython3",
   "version": "3.9.7"
  }
 },
 "nbformat": 4,
 "nbformat_minor": 4
}
